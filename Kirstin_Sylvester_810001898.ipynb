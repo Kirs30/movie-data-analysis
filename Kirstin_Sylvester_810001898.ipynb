{
 "cells": [
  {
   "cell_type": "markdown",
   "metadata": {
    "collapsed": false
   },
   "source": [
    "# ***Importing Libraries***"
   ]
  },
  {
   "cell_type": "code",
   "execution_count": 1,
   "metadata": {
    "collapsed": true,
    "pycharm": {
     "is_executing": true
    }
   },
   "outputs": [
    {
     "ename": "ModuleNotFoundError",
     "evalue": "No module named 'seaborn'",
     "output_type": "error",
     "traceback": [
      "\u001B[1;31m---------------------------------------------------------------------------\u001B[0m",
      "\u001B[1;31mModuleNotFoundError\u001B[0m                       Traceback (most recent call last)",
      "Cell \u001B[1;32mIn[1], line 2\u001B[0m\n\u001B[0;32m      1\u001B[0m \u001B[39mimport\u001B[39;00m \u001B[39mpandas\u001B[39;00m \u001B[39mas\u001B[39;00m \u001B[39mpd\u001B[39;00m \u001B[39m#for dataframes\u001B[39;00m\n\u001B[1;32m----> 2\u001B[0m \u001B[39mimport\u001B[39;00m \u001B[39mseaborn\u001B[39;00m \u001B[39mas\u001B[39;00m \u001B[39msns\u001B[39;00m \u001B[39m#for more complicated plots\u001B[39;00m\n\u001B[0;32m      3\u001B[0m \u001B[39mimport\u001B[39;00m \u001B[39mmatplotlib\u001B[39;00m\u001B[39m.\u001B[39;00m\u001B[39mpyplot\u001B[39;00m \u001B[39mas\u001B[39;00m \u001B[39mplt\u001B[39;00m \u001B[39m# for simple plots\u001B[39;00m\n\u001B[0;32m      4\u001B[0m get_ipython()\u001B[39m.\u001B[39mrun_line_magic(\u001B[39m'\u001B[39m\u001B[39mmatplotlib\u001B[39m\u001B[39m'\u001B[39m, \u001B[39m'\u001B[39m\u001B[39minline # plots in notebook under respective code\u001B[39m\u001B[39m'\u001B[39m)\n",
      "\u001B[1;31mModuleNotFoundError\u001B[0m: No module named 'seaborn'"
     ]
    }
   ],
   "source": [
    "import pandas as pd #for dataframes\n",
    "import seaborn as sns #for more complicated plots\n",
    "import matplotlib.pyplot as plt # for simple plots\n",
    "%matplotlib inline # plots in notebook under respective code\n",
    "import ast #abstract syntax"
   ]
  },
  {
   "cell_type": "markdown",
   "metadata": {
    "collapsed": false
   },
   "source": [
    "# ***Data Cleaning and EDA***"
   ]
  },
  {
   "cell_type": "code",
   "execution_count": null,
   "metadata": {
    "collapsed": false
   },
   "outputs": [],
   "source": [
    "# CSV to DF\n",
    "df = pd.read_csv(\"C:/Users\\kirst\\OneDrive\\Desktop\\)\\Semester 2 Courses\\COMP 6940 Big Data and Visual Analytics/top_hollywood_grossing_movies.csv\")"
   ]
  },
  {
   "cell_type": "code",
   "execution_count": null,
   "metadata": {
    "collapsed": false
   },
   "outputs": [
    {
     "data": {
      "text/html": [
       "<div>\n",
       "<style scoped>\n",
       "    .dataframe tbody tr th:only-of-type {\n",
       "        vertical-align: middle;\n",
       "    }\n",
       "\n",
       "    .dataframe tbody tr th {\n",
       "        vertical-align: top;\n",
       "    }\n",
       "\n",
       "    .dataframe thead th {\n",
       "        text-align: right;\n",
       "    }\n",
       "</style>\n",
       "<table border=\"1\" class=\"dataframe\">\n",
       "  <thead>\n",
       "    <tr style=\"text-align: right;\">\n",
       "      <th></th>\n",
       "      <th>Unnamed: 0</th>\n",
       "      <th>Domestic Sales (in $)</th>\n",
       "      <th>International Sales (in $)</th>\n",
       "      <th>World Sales (in $)</th>\n",
       "    </tr>\n",
       "  </thead>\n",
       "  <tbody>\n",
       "    <tr>\n",
       "      <th>count</th>\n",
       "      <td>900.000000</td>\n",
       "      <td>9.000000e+02</td>\n",
       "      <td>9.000000e+02</td>\n",
       "      <td>9.000000e+02</td>\n",
       "    </tr>\n",
       "    <tr>\n",
       "      <th>mean</th>\n",
       "      <td>449.500000</td>\n",
       "      <td>1.694776e+08</td>\n",
       "      <td>2.332383e+08</td>\n",
       "      <td>4.017626e+08</td>\n",
       "    </tr>\n",
       "    <tr>\n",
       "      <th>std</th>\n",
       "      <td>259.951919</td>\n",
       "      <td>1.043421e+08</td>\n",
       "      <td>2.185393e+08</td>\n",
       "      <td>3.092720e+08</td>\n",
       "    </tr>\n",
       "    <tr>\n",
       "      <th>min</th>\n",
       "      <td>0.000000</td>\n",
       "      <td>8.190346e+07</td>\n",
       "      <td>2.600000e+02</td>\n",
       "      <td>8.260470e+07</td>\n",
       "    </tr>\n",
       "    <tr>\n",
       "      <th>25%</th>\n",
       "      <td>224.750000</td>\n",
       "      <td>1.025566e+08</td>\n",
       "      <td>9.222500e+07</td>\n",
       "      <td>2.033883e+08</td>\n",
       "    </tr>\n",
       "    <tr>\n",
       "      <th>50%</th>\n",
       "      <td>449.500000</td>\n",
       "      <td>1.338492e+08</td>\n",
       "      <td>1.670817e+08</td>\n",
       "      <td>3.070346e+08</td>\n",
       "    </tr>\n",
       "    <tr>\n",
       "      <th>75%</th>\n",
       "      <td>674.250000</td>\n",
       "      <td>1.942324e+08</td>\n",
       "      <td>2.896735e+08</td>\n",
       "      <td>4.827288e+08</td>\n",
       "    </tr>\n",
       "    <tr>\n",
       "      <th>max</th>\n",
       "      <td>899.000000</td>\n",
       "      <td>9.366622e+08</td>\n",
       "      <td>2.086739e+09</td>\n",
       "      <td>2.847246e+09</td>\n",
       "    </tr>\n",
       "  </tbody>\n",
       "</table>\n",
       "</div>"
      ],
      "text/plain": [
       "       Unnamed: 0  Domestic Sales (in $)  International Sales (in $)  \\\n",
       "count  900.000000           9.000000e+02                9.000000e+02   \n",
       "mean   449.500000           1.694776e+08                2.332383e+08   \n",
       "std    259.951919           1.043421e+08                2.185393e+08   \n",
       "min      0.000000           8.190346e+07                2.600000e+02   \n",
       "25%    224.750000           1.025566e+08                9.222500e+07   \n",
       "50%    449.500000           1.338492e+08                1.670817e+08   \n",
       "75%    674.250000           1.942324e+08                2.896735e+08   \n",
       "max    899.000000           9.366622e+08                2.086739e+09   \n",
       "\n",
       "       World Sales (in $)  \n",
       "count        9.000000e+02  \n",
       "mean         4.017626e+08  \n",
       "std          3.092720e+08  \n",
       "min          8.260470e+07  \n",
       "25%          2.033883e+08  \n",
       "50%          3.070346e+08  \n",
       "75%          4.827288e+08  \n",
       "max          2.847246e+09  "
      ]
     },
     "execution_count": 4,
     "metadata": {},
     "output_type": "execute_result"
    }
   ],
   "source": [
    "df.describe()  #gives us some statistical decription of the data"
   ]
  },
  {
   "cell_type": "code",
   "execution_count": null,
   "metadata": {
    "collapsed": false
   },
   "outputs": [
    {
     "name": "stdout",
     "output_type": "stream",
     "text": [
      "<class 'pandas.core.frame.DataFrame'>\n",
      "RangeIndex: 900 entries, 0 to 899\n",
      "Data columns (total 11 columns):\n",
      " #   Column                      Non-Null Count  Dtype \n",
      "---  ------                      --------------  ----- \n",
      " 0   Unnamed: 0                  900 non-null    int64 \n",
      " 1   Title                       900 non-null    object\n",
      " 2   Movie Info                  900 non-null    object\n",
      " 3   Distributor                 900 non-null    object\n",
      " 4   Release Date                698 non-null    object\n",
      " 5   Domestic Sales (in $)       900 non-null    int64 \n",
      " 6   International Sales (in $)  900 non-null    int64 \n",
      " 7   World Sales (in $)          900 non-null    int64 \n",
      " 8   Genre                       900 non-null    object\n",
      " 9   Movie Runtime               900 non-null    object\n",
      " 10  License                     729 non-null    object\n",
      "dtypes: int64(4), object(7)\n",
      "memory usage: 77.5+ KB\n"
     ]
    }
   ],
   "source": [
    "df.info() #gives a summary of the df"
   ]
  },
  {
   "cell_type": "code",
   "execution_count": null,
   "metadata": {
    "collapsed": false
   },
   "outputs": [
    {
     "data": {
      "text/plain": [
       "Unnamed: 0                     int64\n",
       "Title                         object\n",
       "Movie Info                    object\n",
       "Distributor                   object\n",
       "Release Date                  object\n",
       "Domestic Sales (in $)          int64\n",
       "International Sales (in $)     int64\n",
       "World Sales (in $)             int64\n",
       "Genre                         object\n",
       "Movie Runtime                 object\n",
       "License                       object\n",
       "dtype: object"
      ]
     },
     "execution_count": 36,
     "metadata": {},
     "output_type": "execute_result"
    }
   ],
   "source": [
    "df.dtypes # checking the data types"
   ]
  },
  {
   "cell_type": "code",
   "execution_count": null,
   "metadata": {
    "collapsed": false
   },
   "outputs": [
    {
     "data": {
      "text/html": [
       "<div>\n",
       "<style scoped>\n",
       "    .dataframe tbody tr th:only-of-type {\n",
       "        vertical-align: middle;\n",
       "    }\n",
       "\n",
       "    .dataframe tbody tr th {\n",
       "        vertical-align: top;\n",
       "    }\n",
       "\n",
       "    .dataframe thead th {\n",
       "        text-align: right;\n",
       "    }\n",
       "</style>\n",
       "<table border=\"1\" class=\"dataframe\">\n",
       "  <thead>\n",
       "    <tr style=\"text-align: right;\">\n",
       "      <th></th>\n",
       "      <th>Unnamed: 0</th>\n",
       "      <th>Title</th>\n",
       "      <th>Movie Info</th>\n",
       "      <th>Distributor</th>\n",
       "      <th>Release Date</th>\n",
       "      <th>Domestic Sales (in $)</th>\n",
       "      <th>International Sales (in $)</th>\n",
       "      <th>World Sales (in $)</th>\n",
       "      <th>Genre</th>\n",
       "      <th>Movie Runtime</th>\n",
       "      <th>License</th>\n",
       "      <th>cluster</th>\n",
       "    </tr>\n",
       "  </thead>\n",
       "  <tbody>\n",
       "    <tr>\n",
       "      <th>0</th>\n",
       "      <td>0</td>\n",
       "      <td>Star Wars: Episode VII - The Force Awakens (2015)</td>\n",
       "      <td>As a new threat to the galaxy rises, Rey, a de...</td>\n",
       "      <td>Walt Disney Studios Motion Pictures</td>\n",
       "      <td>December 16, 2015</td>\n",
       "      <td>936662225</td>\n",
       "      <td>1132859475</td>\n",
       "      <td>2069521700</td>\n",
       "      <td>Action|Adventure|Sci-Fi</td>\n",
       "      <td>2 hr 18 min</td>\n",
       "      <td>PG-13</td>\n",
       "      <td>3</td>\n",
       "    </tr>\n",
       "    <tr>\n",
       "      <th>1</th>\n",
       "      <td>1</td>\n",
       "      <td>Avengers: Endgame (2019)</td>\n",
       "      <td>After the devastating events of Avengers: Infi...</td>\n",
       "      <td>Walt Disney Studios Motion Pictures</td>\n",
       "      <td>April 24, 2019</td>\n",
       "      <td>858373000</td>\n",
       "      <td>1939128328</td>\n",
       "      <td>2797501328</td>\n",
       "      <td>Action|Adventure|Drama|Sci-Fi</td>\n",
       "      <td>3 hr 1 min</td>\n",
       "      <td>PG-13</td>\n",
       "      <td>3</td>\n",
       "    </tr>\n",
       "    <tr>\n",
       "      <th>2</th>\n",
       "      <td>2</td>\n",
       "      <td>Avatar (2009)</td>\n",
       "      <td>A paraplegic Marine dispatched to the moon Pan...</td>\n",
       "      <td>Twentieth Century Fox</td>\n",
       "      <td>December 16, 2009</td>\n",
       "      <td>760507625</td>\n",
       "      <td>2086738578</td>\n",
       "      <td>2847246203</td>\n",
       "      <td>Action|Adventure|Fantasy|Sci-Fi</td>\n",
       "      <td>2 hr 42 min</td>\n",
       "      <td>PG-13</td>\n",
       "      <td>3</td>\n",
       "    </tr>\n",
       "    <tr>\n",
       "      <th>3</th>\n",
       "      <td>3</td>\n",
       "      <td>Black Panther (2018)</td>\n",
       "      <td>T'Challa, heir to the hidden but advanced king...</td>\n",
       "      <td>Walt Disney Studios Motion Pictures</td>\n",
       "      <td>NaN</td>\n",
       "      <td>700426566</td>\n",
       "      <td>647171407</td>\n",
       "      <td>1347597973</td>\n",
       "      <td>Action|Adventure|Sci-Fi</td>\n",
       "      <td>2 hr 14 min</td>\n",
       "      <td>NaN</td>\n",
       "      <td>3</td>\n",
       "    </tr>\n",
       "    <tr>\n",
       "      <th>4</th>\n",
       "      <td>4</td>\n",
       "      <td>Avengers: Infinity War (2018)</td>\n",
       "      <td>The Avengers and their allies must be willing ...</td>\n",
       "      <td>Walt Disney Studios Motion Pictures</td>\n",
       "      <td>NaN</td>\n",
       "      <td>678815482</td>\n",
       "      <td>1369544272</td>\n",
       "      <td>2048359754</td>\n",
       "      <td>Action|Adventure|Sci-Fi</td>\n",
       "      <td>2 hr 29 min</td>\n",
       "      <td>NaN</td>\n",
       "      <td>3</td>\n",
       "    </tr>\n",
       "  </tbody>\n",
       "</table>\n",
       "</div>"
      ],
      "text/plain": [
       "   Unnamed: 0                                              Title  \\\n",
       "0           0  Star Wars: Episode VII - The Force Awakens (2015)   \n",
       "1           1                           Avengers: Endgame (2019)   \n",
       "2           2                                      Avatar (2009)   \n",
       "3           3                               Black Panther (2018)   \n",
       "4           4                      Avengers: Infinity War (2018)   \n",
       "\n",
       "                                          Movie Info  \\\n",
       "0  As a new threat to the galaxy rises, Rey, a de...   \n",
       "1  After the devastating events of Avengers: Infi...   \n",
       "2  A paraplegic Marine dispatched to the moon Pan...   \n",
       "3  T'Challa, heir to the hidden but advanced king...   \n",
       "4  The Avengers and their allies must be willing ...   \n",
       "\n",
       "                           Distributor       Release Date  \\\n",
       "0  Walt Disney Studios Motion Pictures  December 16, 2015   \n",
       "1  Walt Disney Studios Motion Pictures     April 24, 2019   \n",
       "2                Twentieth Century Fox  December 16, 2009   \n",
       "3  Walt Disney Studios Motion Pictures                NaN   \n",
       "4  Walt Disney Studios Motion Pictures                NaN   \n",
       "\n",
       "   Domestic Sales (in $)  International Sales (in $)  World Sales (in $)  \\\n",
       "0              936662225                  1132859475          2069521700   \n",
       "1              858373000                  1939128328          2797501328   \n",
       "2              760507625                  2086738578          2847246203   \n",
       "3              700426566                   647171407          1347597973   \n",
       "4              678815482                  1369544272          2048359754   \n",
       "\n",
       "                             Genre Movie Runtime License  cluster  \n",
       "0          Action|Adventure|Sci-Fi   2 hr 18 min   PG-13        3  \n",
       "1    Action|Adventure|Drama|Sci-Fi    3 hr 1 min   PG-13        3  \n",
       "2  Action|Adventure|Fantasy|Sci-Fi   2 hr 42 min   PG-13        3  \n",
       "3          Action|Adventure|Sci-Fi   2 hr 14 min     NaN        3  \n",
       "4          Action|Adventure|Sci-Fi   2 hr 29 min     NaN        3  "
      ]
     },
     "execution_count": 140,
     "metadata": {},
     "output_type": "execute_result"
    }
   ],
   "source": [
    "df.head()  # shows us what the first 5 rows of the df look like"
   ]
  },
  {
   "cell_type": "code",
   "execution_count": null,
   "metadata": {
    "collapsed": false
   },
   "outputs": [
    {
     "name": "stdout",
     "output_type": "stream",
     "text": [
      "Index(['Unnamed: 0', 'Domestic Sales (in $)', 'International Sales (in $)',\n",
      "       'World Sales (in $)'],\n",
      "      dtype='object')\n"
     ]
    }
   ],
   "source": [
    "numeric_cols = df.select_dtypes(include=['number']).columns    #tells us which cols have numeric info\n",
    "print(numeric_cols)"
   ]
  },
  {
   "cell_type": "code",
   "execution_count": null,
   "metadata": {
    "collapsed": false
   },
   "outputs": [
    {
     "name": "stdout",
     "output_type": "stream",
     "text": [
      "Index(['Title', 'Movie Info', 'Distributor', 'Release Date', 'Genre',\n",
      "       'Movie Runtime', 'License'],\n",
      "      dtype='object')\n"
     ]
    }
   ],
   "source": [
    "non_numeric_cols = df.select_dtypes(exclude=['number']).columns    #tells us which cols have non-numeric info\n",
    "print(non_numeric_cols)"
   ]
  },
  {
   "cell_type": "markdown",
   "metadata": {
    "collapsed": false
   },
   "source": [
    "### Observing Missing Data"
   ]
  },
  {
   "cell_type": "code",
   "execution_count": null,
   "metadata": {
    "collapsed": false
   },
   "outputs": [
    {
     "name": "stdout",
     "output_type": "stream",
     "text": [
      "<class 'pandas.core.frame.DataFrame'>\n",
      "RangeIndex: 900 entries, 0 to 899\n",
      "Data columns (total 7 columns):\n",
      " #   Column         Non-Null Count  Dtype \n",
      "---  ------         --------------  ----- \n",
      " 0   Title          900 non-null    object\n",
      " 1   Movie Info     900 non-null    object\n",
      " 2   Distributor    900 non-null    object\n",
      " 3   Release Date   698 non-null    object\n",
      " 4   Genre          900 non-null    object\n",
      " 5   Movie Runtime  900 non-null    object\n",
      " 6   License        729 non-null    object\n",
      "dtypes: object(7)\n",
      "memory usage: 49.3+ KB\n"
     ]
    }
   ],
   "source": [
    "df[non_numeric_cols].info()  # gives us the non-null count"
   ]
  },
  {
   "cell_type": "code",
   "execution_count": null,
   "metadata": {
    "collapsed": false
   },
   "outputs": [
    {
     "data": {
      "text/plain": [
       "Unnamed: 0                      0\n",
       "Title                           0\n",
       "Movie Info                      0\n",
       "Distributor                     0\n",
       "Release Date                  202\n",
       "Domestic Sales (in $)           0\n",
       "International Sales (in $)      0\n",
       "World Sales (in $)              0\n",
       "Genre                           0\n",
       "Movie Runtime                   0\n",
       "License                       171\n",
       "dtype: int64"
      ]
     },
     "execution_count": 10,
     "metadata": {},
     "output_type": "execute_result"
    }
   ],
   "source": [
    "#columns and their num of missing values\n",
    "num_missing = df.isna().sum()\n",
    "num_missing[:11]"
   ]
  },
  {
   "cell_type": "code",
   "execution_count": null,
   "metadata": {
    "collapsed": false
   },
   "outputs": [
    {
     "data": {
      "text/plain": [
       "Unnamed: 0                     0.000000\n",
       "Title                          0.000000\n",
       "Movie Info                     0.000000\n",
       "Distributor                    0.000000\n",
       "Release Date                  22.444444\n",
       "Domestic Sales (in $)          0.000000\n",
       "International Sales (in $)     0.000000\n",
       "World Sales (in $)             0.000000\n",
       "Genre                          0.000000\n",
       "Movie Runtime                  0.000000\n",
       "License                       19.000000\n",
       "dtype: float64"
      ]
     },
     "execution_count": 37,
     "metadata": {},
     "output_type": "execute_result"
    }
   ],
   "source": [
    "# % of missing values by col\n",
    "pct_missing = df.isna().mean()*100\n",
    "pct_missing[:11]"
   ]
  },
  {
   "cell_type": "code",
   "execution_count": null,
   "metadata": {
    "collapsed": false,
    "pycharm": {
     "is_executing": true
    }
   },
   "outputs": [],
   "source": [
    "# heatmap to visualse missing data\n",
    "plt.figure(figsize=(10,8))\n",
    "\n",
    "cols = df.columns[:11]\n",
    "colours = ['#000099', '#ffff00'] # yellow - missing data, blue - not missing\n",
    "sns.heatmap(df[cols].isna(), cmap=sns.color_palette(colours))"
   ]
  },
  {
   "cell_type": "markdown",
   "metadata": {
    "collapsed": false
   },
   "source": [
    "# Imputation and Manipulation of Data"
   ]
  },
  {
   "cell_type": "markdown",
   "metadata": {
    "collapsed": false
   },
   "source": [
    "As seen in the previous section, Release Date is missing 22.44% and License is missing 19% of it's data\n",
    "I decided to fill the missing release date rows with NaN and missing License with NA instead of deleting so that the rest of the row wouldn't be lost from the analysis\n",
    "(In this situation it would be illogical to use mean or most frequent values)"
   ]
  },
  {
   "cell_type": "code",
   "execution_count": null,
   "metadata": {
    "collapsed": false
   },
   "outputs": [
    {
     "data": {
      "text/html": [
       "<div>\n",
       "<style scoped>\n",
       "    .dataframe tbody tr th:only-of-type {\n",
       "        vertical-align: middle;\n",
       "    }\n",
       "\n",
       "    .dataframe tbody tr th {\n",
       "        vertical-align: top;\n",
       "    }\n",
       "\n",
       "    .dataframe thead th {\n",
       "        text-align: right;\n",
       "    }\n",
       "</style>\n",
       "<table border=\"1\" class=\"dataframe\">\n",
       "  <thead>\n",
       "    <tr style=\"text-align: right;\">\n",
       "      <th></th>\n",
       "      <th>Unnamed: 0</th>\n",
       "      <th>Title</th>\n",
       "      <th>Movie Info</th>\n",
       "      <th>Distributor</th>\n",
       "      <th>Release Date</th>\n",
       "      <th>Domestic Sales (in $)</th>\n",
       "      <th>International Sales (in $)</th>\n",
       "      <th>World Sales (in $)</th>\n",
       "      <th>Genre</th>\n",
       "      <th>Movie Runtime</th>\n",
       "      <th>License</th>\n",
       "    </tr>\n",
       "  </thead>\n",
       "  <tbody>\n",
       "    <tr>\n",
       "      <th>0</th>\n",
       "      <td>0</td>\n",
       "      <td>Star Wars: Episode VII - The Force Awakens (2015)</td>\n",
       "      <td>As a new threat to the galaxy rises, Rey, a de...</td>\n",
       "      <td>Walt Disney Studios Motion Pictures</td>\n",
       "      <td>December 16, 2015</td>\n",
       "      <td>936662225</td>\n",
       "      <td>1132859475</td>\n",
       "      <td>2069521700</td>\n",
       "      <td>['Action', 'Adventure', 'Sci-Fi']</td>\n",
       "      <td>2 hr 18 min</td>\n",
       "      <td>PG-13</td>\n",
       "    </tr>\n",
       "    <tr>\n",
       "      <th>1</th>\n",
       "      <td>1</td>\n",
       "      <td>Avengers: Endgame (2019)</td>\n",
       "      <td>After the devastating events of Avengers: Infi...</td>\n",
       "      <td>Walt Disney Studios Motion Pictures</td>\n",
       "      <td>April 24, 2019</td>\n",
       "      <td>858373000</td>\n",
       "      <td>1939128328</td>\n",
       "      <td>2797501328</td>\n",
       "      <td>['Action', 'Adventure', 'Drama', 'Sci-Fi']</td>\n",
       "      <td>3 hr 1 min</td>\n",
       "      <td>PG-13</td>\n",
       "    </tr>\n",
       "    <tr>\n",
       "      <th>2</th>\n",
       "      <td>2</td>\n",
       "      <td>Avatar (2009)</td>\n",
       "      <td>A paraplegic Marine dispatched to the moon Pan...</td>\n",
       "      <td>Twentieth Century Fox</td>\n",
       "      <td>December 16, 2009</td>\n",
       "      <td>760507625</td>\n",
       "      <td>2086738578</td>\n",
       "      <td>2847246203</td>\n",
       "      <td>['Action', 'Adventure', 'Fantasy', 'Sci-Fi']</td>\n",
       "      <td>2 hr 42 min</td>\n",
       "      <td>PG-13</td>\n",
       "    </tr>\n",
       "    <tr>\n",
       "      <th>3</th>\n",
       "      <td>3</td>\n",
       "      <td>Black Panther (2018)</td>\n",
       "      <td>T'Challa, heir to the hidden but advanced king...</td>\n",
       "      <td>Walt Disney Studios Motion Pictures</td>\n",
       "      <td>NaN</td>\n",
       "      <td>700426566</td>\n",
       "      <td>647171407</td>\n",
       "      <td>1347597973</td>\n",
       "      <td>['Action', 'Adventure', 'Sci-Fi']</td>\n",
       "      <td>2 hr 14 min</td>\n",
       "      <td>NaN</td>\n",
       "    </tr>\n",
       "    <tr>\n",
       "      <th>4</th>\n",
       "      <td>4</td>\n",
       "      <td>Avengers: Infinity War (2018)</td>\n",
       "      <td>The Avengers and their allies must be willing ...</td>\n",
       "      <td>Walt Disney Studios Motion Pictures</td>\n",
       "      <td>NaN</td>\n",
       "      <td>678815482</td>\n",
       "      <td>1369544272</td>\n",
       "      <td>2048359754</td>\n",
       "      <td>['Action', 'Adventure', 'Sci-Fi']</td>\n",
       "      <td>2 hr 29 min</td>\n",
       "      <td>NaN</td>\n",
       "    </tr>\n",
       "  </tbody>\n",
       "</table>\n",
       "</div>"
      ],
      "text/plain": [
       "   Unnamed: 0                                              Title  \\\n",
       "0           0  Star Wars: Episode VII - The Force Awakens (2015)   \n",
       "1           1                           Avengers: Endgame (2019)   \n",
       "2           2                                      Avatar (2009)   \n",
       "3           3                               Black Panther (2018)   \n",
       "4           4                      Avengers: Infinity War (2018)   \n",
       "\n",
       "                                          Movie Info  \\\n",
       "0  As a new threat to the galaxy rises, Rey, a de...   \n",
       "1  After the devastating events of Avengers: Infi...   \n",
       "2  A paraplegic Marine dispatched to the moon Pan...   \n",
       "3  T'Challa, heir to the hidden but advanced king...   \n",
       "4  The Avengers and their allies must be willing ...   \n",
       "\n",
       "                           Distributor       Release Date  \\\n",
       "0  Walt Disney Studios Motion Pictures  December 16, 2015   \n",
       "1  Walt Disney Studios Motion Pictures     April 24, 2019   \n",
       "2                Twentieth Century Fox  December 16, 2009   \n",
       "3  Walt Disney Studios Motion Pictures                NaN   \n",
       "4  Walt Disney Studios Motion Pictures                NaN   \n",
       "\n",
       "   Domestic Sales (in $)  International Sales (in $)  World Sales (in $)  \\\n",
       "0              936662225                  1132859475          2069521700   \n",
       "1              858373000                  1939128328          2797501328   \n",
       "2              760507625                  2086738578          2847246203   \n",
       "3              700426566                   647171407          1347597973   \n",
       "4              678815482                  1369544272          2048359754   \n",
       "\n",
       "                                          Genre Movie Runtime License  \n",
       "0             ['Action', 'Adventure', 'Sci-Fi']   2 hr 18 min   PG-13  \n",
       "1    ['Action', 'Adventure', 'Drama', 'Sci-Fi']    3 hr 1 min   PG-13  \n",
       "2  ['Action', 'Adventure', 'Fantasy', 'Sci-Fi']   2 hr 42 min   PG-13  \n",
       "3             ['Action', 'Adventure', 'Sci-Fi']   2 hr 14 min     NaN  \n",
       "4             ['Action', 'Adventure', 'Sci-Fi']   2 hr 29 min     NaN  "
      ]
     },
     "execution_count": 13,
     "metadata": {},
     "output_type": "execute_result"
    }
   ],
   "source": [
    "# impute missing data w constant values\n",
    "df_copy = df.copy()\n",
    "df_copy[numeric_cols] = df_copy[numeric_cols].fillna('NaN')\n",
    "df_copy[non_numeric_cols] = df_copy[non_numeric_cols].fillna('NaN')\n",
    "df_copy.head()"
   ]
  },
  {
   "cell_type": "code",
   "execution_count": null,
   "metadata": {
    "collapsed": false
   },
   "outputs": [
    {
     "name": "stdout",
     "output_type": "stream",
     "text": [
      "<class 'pandas.core.frame.DataFrame'>\n",
      "RangeIndex: 900 entries, 0 to 899\n",
      "Data columns (total 7 columns):\n",
      " #   Column         Non-Null Count  Dtype \n",
      "---  ------         --------------  ----- \n",
      " 0   Title          900 non-null    object\n",
      " 1   Movie Info     900 non-null    object\n",
      " 2   Distributor    900 non-null    object\n",
      " 3   Release Date   900 non-null    object\n",
      " 4   Genre          900 non-null    object\n",
      " 5   Movie Runtime  900 non-null    object\n",
      " 6   License        900 non-null    object\n",
      "dtypes: object(7)\n",
      "memory usage: 49.3+ KB\n",
      "<class 'pandas.core.frame.DataFrame'>\n",
      "RangeIndex: 900 entries, 0 to 899\n",
      "Data columns (total 4 columns):\n",
      " #   Column                      Non-Null Count  Dtype\n",
      "---  ------                      --------------  -----\n",
      " 0   Unnamed: 0                  900 non-null    int64\n",
      " 1   Domestic Sales (in $)       900 non-null    int64\n",
      " 2   International Sales (in $)  900 non-null    int64\n",
      " 3   World Sales (in $)          900 non-null    int64\n",
      "dtypes: int64(4)\n",
      "memory usage: 28.2 KB\n"
     ]
    }
   ],
   "source": [
    "# here we see that all rows are filled\n",
    "df_copy[non_numeric_cols].info()\n",
    "df_copy[numeric_cols].info()"
   ]
  },
  {
   "cell_type": "markdown",
   "metadata": {
    "collapsed": false
   },
   "source": [
    "### Converting Runtime to minutes"
   ]
  },
  {
   "cell_type": "markdown",
   "metadata": {
    "collapsed": false
   },
   "source": [
    "Runtime is converted to minutes as it is more uniform and easier to perform analysis such as sorting, grouping, filtering etc."
   ]
  },
  {
   "cell_type": "code",
   "execution_count": null,
   "metadata": {
    "collapsed": false
   },
   "outputs": [],
   "source": [
    "def convert_to_minutes(s):\n",
    "    if isinstance(s,str):\n",
    "        parts= s.split(' ')\n",
    "        if len(parts)==4 and parts[1].endswith('hr') and parts[3].endswith('min'):\n",
    "            hours= int(parts[0])\n",
    "            minutes= int(parts[2])\n",
    "            return hours*60 + minutes\n",
    "    return None"
   ]
  },
  {
   "cell_type": "code",
   "execution_count": null,
   "metadata": {
    "collapsed": false
   },
   "outputs": [
    {
     "data": {
      "text/html": [
       "<div>\n",
       "<style scoped>\n",
       "    .dataframe tbody tr th:only-of-type {\n",
       "        vertical-align: middle;\n",
       "    }\n",
       "\n",
       "    .dataframe tbody tr th {\n",
       "        vertical-align: top;\n",
       "    }\n",
       "\n",
       "    .dataframe thead th {\n",
       "        text-align: right;\n",
       "    }\n",
       "</style>\n",
       "<table border=\"1\" class=\"dataframe\">\n",
       "  <thead>\n",
       "    <tr style=\"text-align: right;\">\n",
       "      <th></th>\n",
       "      <th>Unnamed: 0</th>\n",
       "      <th>Title</th>\n",
       "      <th>Movie Info</th>\n",
       "      <th>Distributor</th>\n",
       "      <th>Release Date</th>\n",
       "      <th>Domestic Sales (in $)</th>\n",
       "      <th>International Sales (in $)</th>\n",
       "      <th>World Sales (in $)</th>\n",
       "      <th>Genre</th>\n",
       "      <th>Movie Runtime</th>\n",
       "      <th>License</th>\n",
       "      <th>Runtime in Mins</th>\n",
       "    </tr>\n",
       "  </thead>\n",
       "  <tbody>\n",
       "    <tr>\n",
       "      <th>0</th>\n",
       "      <td>0</td>\n",
       "      <td>Star Wars: Episode VII - The Force Awakens (2015)</td>\n",
       "      <td>As a new threat to the galaxy rises, Rey, a de...</td>\n",
       "      <td>Walt Disney Studios Motion Pictures</td>\n",
       "      <td>December 16, 2015</td>\n",
       "      <td>936662225</td>\n",
       "      <td>1132859475</td>\n",
       "      <td>2069521700</td>\n",
       "      <td>['Action', 'Adventure', 'Sci-Fi']</td>\n",
       "      <td>2 hr 18 min</td>\n",
       "      <td>PG-13</td>\n",
       "      <td>138.0</td>\n",
       "    </tr>\n",
       "    <tr>\n",
       "      <th>1</th>\n",
       "      <td>1</td>\n",
       "      <td>Avengers: Endgame (2019)</td>\n",
       "      <td>After the devastating events of Avengers: Infi...</td>\n",
       "      <td>Walt Disney Studios Motion Pictures</td>\n",
       "      <td>April 24, 2019</td>\n",
       "      <td>858373000</td>\n",
       "      <td>1939128328</td>\n",
       "      <td>2797501328</td>\n",
       "      <td>['Action', 'Adventure', 'Drama', 'Sci-Fi']</td>\n",
       "      <td>3 hr 1 min</td>\n",
       "      <td>PG-13</td>\n",
       "      <td>181.0</td>\n",
       "    </tr>\n",
       "    <tr>\n",
       "      <th>2</th>\n",
       "      <td>2</td>\n",
       "      <td>Avatar (2009)</td>\n",
       "      <td>A paraplegic Marine dispatched to the moon Pan...</td>\n",
       "      <td>Twentieth Century Fox</td>\n",
       "      <td>December 16, 2009</td>\n",
       "      <td>760507625</td>\n",
       "      <td>2086738578</td>\n",
       "      <td>2847246203</td>\n",
       "      <td>['Action', 'Adventure', 'Fantasy', 'Sci-Fi']</td>\n",
       "      <td>2 hr 42 min</td>\n",
       "      <td>PG-13</td>\n",
       "      <td>162.0</td>\n",
       "    </tr>\n",
       "    <tr>\n",
       "      <th>3</th>\n",
       "      <td>3</td>\n",
       "      <td>Black Panther (2018)</td>\n",
       "      <td>T'Challa, heir to the hidden but advanced king...</td>\n",
       "      <td>Walt Disney Studios Motion Pictures</td>\n",
       "      <td>NaN</td>\n",
       "      <td>700426566</td>\n",
       "      <td>647171407</td>\n",
       "      <td>1347597973</td>\n",
       "      <td>['Action', 'Adventure', 'Sci-Fi']</td>\n",
       "      <td>2 hr 14 min</td>\n",
       "      <td>NaN</td>\n",
       "      <td>134.0</td>\n",
       "    </tr>\n",
       "    <tr>\n",
       "      <th>4</th>\n",
       "      <td>4</td>\n",
       "      <td>Avengers: Infinity War (2018)</td>\n",
       "      <td>The Avengers and their allies must be willing ...</td>\n",
       "      <td>Walt Disney Studios Motion Pictures</td>\n",
       "      <td>NaN</td>\n",
       "      <td>678815482</td>\n",
       "      <td>1369544272</td>\n",
       "      <td>2048359754</td>\n",
       "      <td>['Action', 'Adventure', 'Sci-Fi']</td>\n",
       "      <td>2 hr 29 min</td>\n",
       "      <td>NaN</td>\n",
       "      <td>149.0</td>\n",
       "    </tr>\n",
       "  </tbody>\n",
       "</table>\n",
       "</div>"
      ],
      "text/plain": [
       "   Unnamed: 0                                              Title  \\\n",
       "0           0  Star Wars: Episode VII - The Force Awakens (2015)   \n",
       "1           1                           Avengers: Endgame (2019)   \n",
       "2           2                                      Avatar (2009)   \n",
       "3           3                               Black Panther (2018)   \n",
       "4           4                      Avengers: Infinity War (2018)   \n",
       "\n",
       "                                          Movie Info  \\\n",
       "0  As a new threat to the galaxy rises, Rey, a de...   \n",
       "1  After the devastating events of Avengers: Infi...   \n",
       "2  A paraplegic Marine dispatched to the moon Pan...   \n",
       "3  T'Challa, heir to the hidden but advanced king...   \n",
       "4  The Avengers and their allies must be willing ...   \n",
       "\n",
       "                           Distributor       Release Date  \\\n",
       "0  Walt Disney Studios Motion Pictures  December 16, 2015   \n",
       "1  Walt Disney Studios Motion Pictures     April 24, 2019   \n",
       "2                Twentieth Century Fox  December 16, 2009   \n",
       "3  Walt Disney Studios Motion Pictures                NaN   \n",
       "4  Walt Disney Studios Motion Pictures                NaN   \n",
       "\n",
       "   Domestic Sales (in $)  International Sales (in $)  World Sales (in $)  \\\n",
       "0              936662225                  1132859475          2069521700   \n",
       "1              858373000                  1939128328          2797501328   \n",
       "2              760507625                  2086738578          2847246203   \n",
       "3              700426566                   647171407          1347597973   \n",
       "4              678815482                  1369544272          2048359754   \n",
       "\n",
       "                                          Genre Movie Runtime License  \\\n",
       "0             ['Action', 'Adventure', 'Sci-Fi']   2 hr 18 min   PG-13   \n",
       "1    ['Action', 'Adventure', 'Drama', 'Sci-Fi']    3 hr 1 min   PG-13   \n",
       "2  ['Action', 'Adventure', 'Fantasy', 'Sci-Fi']   2 hr 42 min   PG-13   \n",
       "3             ['Action', 'Adventure', 'Sci-Fi']   2 hr 14 min     NaN   \n",
       "4             ['Action', 'Adventure', 'Sci-Fi']   2 hr 29 min     NaN   \n",
       "\n",
       "   Runtime in Mins  \n",
       "0            138.0  \n",
       "1            181.0  \n",
       "2            162.0  \n",
       "3            134.0  \n",
       "4            149.0  "
      ]
     },
     "execution_count": 16,
     "metadata": {},
     "output_type": "execute_result"
    }
   ],
   "source": [
    "# applying this to the copy df\n",
    "df_copy['Runtime in Mins']=df_copy['Movie Runtime'].apply(convert_to_minutes)\n",
    "df_copy.head()"
   ]
  },
  {
   "cell_type": "markdown",
   "metadata": {
    "collapsed": false
   },
   "source": [
    "### Release date converting to datetime"
   ]
  },
  {
   "cell_type": "markdown",
   "metadata": {
    "collapsed": false
   },
   "source": [
    "Converting date to datetime (numerical) allows for sorting, filtering , grouping and other functions"
   ]
  },
  {
   "cell_type": "code",
   "execution_count": null,
   "metadata": {
    "collapsed": false
   },
   "outputs": [
    {
     "data": {
      "text/plain": [
       "0      December 16, 2015\n",
       "1         April 24, 2019\n",
       "2      December 16, 2009\n",
       "3                    NaN\n",
       "4                    NaN\n",
       "             ...        \n",
       "895    November 14, 2007\n",
       "896                  NaN\n",
       "897     February 9, 2006\n",
       "898         June 2, 2016\n",
       "899    December 22, 2017\n",
       "Name: Release Date, Length: 900, dtype: object"
      ]
     },
     "execution_count": 17,
     "metadata": {},
     "output_type": "execute_result"
    }
   ],
   "source": [
    "# converting date time\n",
    "# first print to see data type : it's object\n",
    "df['Release Date']"
   ]
  },
  {
   "cell_type": "code",
   "execution_count": null,
   "metadata": {
    "collapsed": false
   },
   "outputs": [
    {
     "data": {
      "text/html": [
       "<div>\n",
       "<style scoped>\n",
       "    .dataframe tbody tr th:only-of-type {\n",
       "        vertical-align: middle;\n",
       "    }\n",
       "\n",
       "    .dataframe tbody tr th {\n",
       "        vertical-align: top;\n",
       "    }\n",
       "\n",
       "    .dataframe thead th {\n",
       "        text-align: right;\n",
       "    }\n",
       "</style>\n",
       "<table border=\"1\" class=\"dataframe\">\n",
       "  <thead>\n",
       "    <tr style=\"text-align: right;\">\n",
       "      <th></th>\n",
       "      <th>Unnamed: 0</th>\n",
       "      <th>Title</th>\n",
       "      <th>Movie Info</th>\n",
       "      <th>Distributor</th>\n",
       "      <th>Release Date</th>\n",
       "      <th>Domestic Sales (in $)</th>\n",
       "      <th>International Sales (in $)</th>\n",
       "      <th>World Sales (in $)</th>\n",
       "      <th>Genre</th>\n",
       "      <th>Movie Runtime</th>\n",
       "      <th>License</th>\n",
       "      <th>Runtime in Mins</th>\n",
       "    </tr>\n",
       "  </thead>\n",
       "  <tbody>\n",
       "    <tr>\n",
       "      <th>0</th>\n",
       "      <td>0</td>\n",
       "      <td>Star Wars: Episode VII - The Force Awakens (2015)</td>\n",
       "      <td>As a new threat to the galaxy rises, Rey, a de...</td>\n",
       "      <td>Walt Disney Studios Motion Pictures</td>\n",
       "      <td>2015-12-16</td>\n",
       "      <td>936662225</td>\n",
       "      <td>1132859475</td>\n",
       "      <td>2069521700</td>\n",
       "      <td>['Action', 'Adventure', 'Sci-Fi']</td>\n",
       "      <td>2 hr 18 min</td>\n",
       "      <td>PG-13</td>\n",
       "      <td>138.0</td>\n",
       "    </tr>\n",
       "    <tr>\n",
       "      <th>1</th>\n",
       "      <td>1</td>\n",
       "      <td>Avengers: Endgame (2019)</td>\n",
       "      <td>After the devastating events of Avengers: Infi...</td>\n",
       "      <td>Walt Disney Studios Motion Pictures</td>\n",
       "      <td>2019-04-24</td>\n",
       "      <td>858373000</td>\n",
       "      <td>1939128328</td>\n",
       "      <td>2797501328</td>\n",
       "      <td>['Action', 'Adventure', 'Drama', 'Sci-Fi']</td>\n",
       "      <td>3 hr 1 min</td>\n",
       "      <td>PG-13</td>\n",
       "      <td>181.0</td>\n",
       "    </tr>\n",
       "    <tr>\n",
       "      <th>2</th>\n",
       "      <td>2</td>\n",
       "      <td>Avatar (2009)</td>\n",
       "      <td>A paraplegic Marine dispatched to the moon Pan...</td>\n",
       "      <td>Twentieth Century Fox</td>\n",
       "      <td>2009-12-16</td>\n",
       "      <td>760507625</td>\n",
       "      <td>2086738578</td>\n",
       "      <td>2847246203</td>\n",
       "      <td>['Action', 'Adventure', 'Fantasy', 'Sci-Fi']</td>\n",
       "      <td>2 hr 42 min</td>\n",
       "      <td>PG-13</td>\n",
       "      <td>162.0</td>\n",
       "    </tr>\n",
       "    <tr>\n",
       "      <th>3</th>\n",
       "      <td>3</td>\n",
       "      <td>Black Panther (2018)</td>\n",
       "      <td>T'Challa, heir to the hidden but advanced king...</td>\n",
       "      <td>Walt Disney Studios Motion Pictures</td>\n",
       "      <td>NaT</td>\n",
       "      <td>700426566</td>\n",
       "      <td>647171407</td>\n",
       "      <td>1347597973</td>\n",
       "      <td>['Action', 'Adventure', 'Sci-Fi']</td>\n",
       "      <td>2 hr 14 min</td>\n",
       "      <td>NaN</td>\n",
       "      <td>134.0</td>\n",
       "    </tr>\n",
       "    <tr>\n",
       "      <th>4</th>\n",
       "      <td>4</td>\n",
       "      <td>Avengers: Infinity War (2018)</td>\n",
       "      <td>The Avengers and their allies must be willing ...</td>\n",
       "      <td>Walt Disney Studios Motion Pictures</td>\n",
       "      <td>NaT</td>\n",
       "      <td>678815482</td>\n",
       "      <td>1369544272</td>\n",
       "      <td>2048359754</td>\n",
       "      <td>['Action', 'Adventure', 'Sci-Fi']</td>\n",
       "      <td>2 hr 29 min</td>\n",
       "      <td>NaN</td>\n",
       "      <td>149.0</td>\n",
       "    </tr>\n",
       "    <tr>\n",
       "      <th>...</th>\n",
       "      <td>...</td>\n",
       "      <td>...</td>\n",
       "      <td>...</td>\n",
       "      <td>...</td>\n",
       "      <td>...</td>\n",
       "      <td>...</td>\n",
       "      <td>...</td>\n",
       "      <td>...</td>\n",
       "      <td>...</td>\n",
       "      <td>...</td>\n",
       "      <td>...</td>\n",
       "      <td>...</td>\n",
       "    </tr>\n",
       "    <tr>\n",
       "      <th>895</th>\n",
       "      <td>895</td>\n",
       "      <td>Beowulf (2007)</td>\n",
       "      <td>The warrior Beowulf must fight and defeat the ...</td>\n",
       "      <td>Paramount Pictures</td>\n",
       "      <td>2007-11-14</td>\n",
       "      <td>82280579</td>\n",
       "      <td>114113166</td>\n",
       "      <td>196393745</td>\n",
       "      <td>['Action', 'Adventure', 'Animation', 'Fantasy']</td>\n",
       "      <td>1 hr 55 min</td>\n",
       "      <td>PG-13</td>\n",
       "      <td>115.0</td>\n",
       "    </tr>\n",
       "    <tr>\n",
       "      <th>896</th>\n",
       "      <td>896</td>\n",
       "      <td>Bridge to Terabithia (2007)</td>\n",
       "      <td>A preteen's life turns upside down when he bef...</td>\n",
       "      <td>Walt Disney Studios Motion Pictures</td>\n",
       "      <td>NaT</td>\n",
       "      <td>82272442</td>\n",
       "      <td>55314621</td>\n",
       "      <td>137587063</td>\n",
       "      <td>['Drama', 'Family', 'Fantasy']</td>\n",
       "      <td>1 hr 36 min</td>\n",
       "      <td>NaN</td>\n",
       "      <td>96.0</td>\n",
       "    </tr>\n",
       "    <tr>\n",
       "      <th>897</th>\n",
       "      <td>897</td>\n",
       "      <td>The Pink Panther (2006)</td>\n",
       "      <td>Bumbling Inspector Clouseau must solve the mur...</td>\n",
       "      <td>Sony Pictures Entertainment (SPE)</td>\n",
       "      <td>2006-02-09</td>\n",
       "      <td>82226474</td>\n",
       "      <td>81889423</td>\n",
       "      <td>164115897</td>\n",
       "      <td>['Adventure', 'Comedy', 'Crime', 'Mystery']</td>\n",
       "      <td>1 hr 33 min</td>\n",
       "      <td>PG</td>\n",
       "      <td>93.0</td>\n",
       "    </tr>\n",
       "    <tr>\n",
       "      <th>898</th>\n",
       "      <td>898</td>\n",
       "      <td>Teenage Mutant Ninja Turtles: Out of the Shado...</td>\n",
       "      <td>The Turtles get into another battle with their...</td>\n",
       "      <td>Paramount Pictures</td>\n",
       "      <td>2016-06-02</td>\n",
       "      <td>82051601</td>\n",
       "      <td>163572247</td>\n",
       "      <td>245623848</td>\n",
       "      <td>['Action', 'Adventure', 'Comedy', 'Sci-Fi']</td>\n",
       "      <td>1 hr 52 min</td>\n",
       "      <td>PG-13</td>\n",
       "      <td>112.0</td>\n",
       "    </tr>\n",
       "    <tr>\n",
       "      <th>899</th>\n",
       "      <td>899</td>\n",
       "      <td>The Post (2017)</td>\n",
       "      <td>A cover-up spanning four U.S. Presidents pushe...</td>\n",
       "      <td>Twentieth Century Fox</td>\n",
       "      <td>2017-12-22</td>\n",
       "      <td>81903458</td>\n",
       "      <td>98515818</td>\n",
       "      <td>180419276</td>\n",
       "      <td>['Drama']</td>\n",
       "      <td>1 hr 56 min</td>\n",
       "      <td>PG-13</td>\n",
       "      <td>116.0</td>\n",
       "    </tr>\n",
       "  </tbody>\n",
       "</table>\n",
       "<p>900 rows × 12 columns</p>\n",
       "</div>"
      ],
      "text/plain": [
       "     Unnamed: 0                                              Title  \\\n",
       "0             0  Star Wars: Episode VII - The Force Awakens (2015)   \n",
       "1             1                           Avengers: Endgame (2019)   \n",
       "2             2                                      Avatar (2009)   \n",
       "3             3                               Black Panther (2018)   \n",
       "4             4                      Avengers: Infinity War (2018)   \n",
       "..          ...                                                ...   \n",
       "895         895                                     Beowulf (2007)   \n",
       "896         896                        Bridge to Terabithia (2007)   \n",
       "897         897                            The Pink Panther (2006)   \n",
       "898         898  Teenage Mutant Ninja Turtles: Out of the Shado...   \n",
       "899         899                                    The Post (2017)   \n",
       "\n",
       "                                            Movie Info  \\\n",
       "0    As a new threat to the galaxy rises, Rey, a de...   \n",
       "1    After the devastating events of Avengers: Infi...   \n",
       "2    A paraplegic Marine dispatched to the moon Pan...   \n",
       "3    T'Challa, heir to the hidden but advanced king...   \n",
       "4    The Avengers and their allies must be willing ...   \n",
       "..                                                 ...   \n",
       "895  The warrior Beowulf must fight and defeat the ...   \n",
       "896  A preteen's life turns upside down when he bef...   \n",
       "897  Bumbling Inspector Clouseau must solve the mur...   \n",
       "898  The Turtles get into another battle with their...   \n",
       "899  A cover-up spanning four U.S. Presidents pushe...   \n",
       "\n",
       "                             Distributor Release Date  Domestic Sales (in $)  \\\n",
       "0    Walt Disney Studios Motion Pictures   2015-12-16              936662225   \n",
       "1    Walt Disney Studios Motion Pictures   2019-04-24              858373000   \n",
       "2                  Twentieth Century Fox   2009-12-16              760507625   \n",
       "3    Walt Disney Studios Motion Pictures          NaT              700426566   \n",
       "4    Walt Disney Studios Motion Pictures          NaT              678815482   \n",
       "..                                   ...          ...                    ...   \n",
       "895                   Paramount Pictures   2007-11-14               82280579   \n",
       "896  Walt Disney Studios Motion Pictures          NaT               82272442   \n",
       "897    Sony Pictures Entertainment (SPE)   2006-02-09               82226474   \n",
       "898                   Paramount Pictures   2016-06-02               82051601   \n",
       "899                Twentieth Century Fox   2017-12-22               81903458   \n",
       "\n",
       "     International Sales (in $)  World Sales (in $)  \\\n",
       "0                    1132859475          2069521700   \n",
       "1                    1939128328          2797501328   \n",
       "2                    2086738578          2847246203   \n",
       "3                     647171407          1347597973   \n",
       "4                    1369544272          2048359754   \n",
       "..                          ...                 ...   \n",
       "895                   114113166           196393745   \n",
       "896                    55314621           137587063   \n",
       "897                    81889423           164115897   \n",
       "898                   163572247           245623848   \n",
       "899                    98515818           180419276   \n",
       "\n",
       "                                               Genre Movie Runtime License  \\\n",
       "0                  ['Action', 'Adventure', 'Sci-Fi']   2 hr 18 min   PG-13   \n",
       "1         ['Action', 'Adventure', 'Drama', 'Sci-Fi']    3 hr 1 min   PG-13   \n",
       "2       ['Action', 'Adventure', 'Fantasy', 'Sci-Fi']   2 hr 42 min   PG-13   \n",
       "3                  ['Action', 'Adventure', 'Sci-Fi']   2 hr 14 min     NaN   \n",
       "4                  ['Action', 'Adventure', 'Sci-Fi']   2 hr 29 min     NaN   \n",
       "..                                               ...           ...     ...   \n",
       "895  ['Action', 'Adventure', 'Animation', 'Fantasy']   1 hr 55 min   PG-13   \n",
       "896                   ['Drama', 'Family', 'Fantasy']   1 hr 36 min     NaN   \n",
       "897      ['Adventure', 'Comedy', 'Crime', 'Mystery']   1 hr 33 min      PG   \n",
       "898      ['Action', 'Adventure', 'Comedy', 'Sci-Fi']   1 hr 52 min   PG-13   \n",
       "899                                        ['Drama']   1 hr 56 min   PG-13   \n",
       "\n",
       "     Runtime in Mins  \n",
       "0              138.0  \n",
       "1              181.0  \n",
       "2              162.0  \n",
       "3              134.0  \n",
       "4              149.0  \n",
       "..               ...  \n",
       "895            115.0  \n",
       "896             96.0  \n",
       "897             93.0  \n",
       "898            112.0  \n",
       "899            116.0  \n",
       "\n",
       "[900 rows x 12 columns]"
      ]
     },
     "execution_count": 18,
     "metadata": {},
     "output_type": "execute_result"
    }
   ],
   "source": [
    "# changing type\n",
    "# I decided to delete rows bc it was unable to convert to datetime format\n",
    "df_copy['Release Date']=pd.to_datetime(df_copy['Release Date'])\n",
    "df_copy"
   ]
  },
  {
   "cell_type": "markdown",
   "metadata": {
    "collapsed": false
   },
   "source": [
    "#  Numerical Encoding of License"
   ]
  },
  {
   "cell_type": "markdown",
   "metadata": {
    "collapsed": false
   },
   "source": [
    "Numerical encoding of license helps standardize the data. It also reduces the size of the dataset, speeding up processing time."
   ]
  },
  {
   "cell_type": "code",
   "execution_count": null,
   "metadata": {
    "collapsed": false
   },
   "outputs": [
    {
     "data": {
      "text/plain": [
       "5"
      ]
     },
     "execution_count": 19,
     "metadata": {},
     "output_type": "execute_result"
    }
   ],
   "source": [
    "df_copy['License'].nunique()  #Showing the number of unique values for license"
   ]
  },
  {
   "cell_type": "code",
   "execution_count": null,
   "metadata": {
    "collapsed": false
   },
   "outputs": [
    {
     "data": {
      "text/plain": [
       "array(['PG-13', 'NaN', 'PG', 'G', 'R'], dtype=object)"
      ]
     },
     "execution_count": 20,
     "metadata": {},
     "output_type": "execute_result"
    }
   ],
   "source": [
    "df_copy['License'].unique()  #listing what those values are"
   ]
  },
  {
   "cell_type": "code",
   "execution_count": null,
   "metadata": {
    "collapsed": false
   },
   "outputs": [
    {
     "data": {
      "text/plain": [
       "0      3\n",
       "1      3\n",
       "2      3\n",
       "3      0\n",
       "4      0\n",
       "      ..\n",
       "895    3\n",
       "896    0\n",
       "897    2\n",
       "898    3\n",
       "899    3\n",
       "Name: License, Length: 900, dtype: int64"
      ]
     },
     "execution_count": 21,
     "metadata": {},
     "output_type": "execute_result"
    }
   ],
   "source": [
    "License_Encoded = {'NaN':0, 'G':1, 'PG':2, 'PG-13':3, 'R':4}   #numerical key\n",
    "df_copy['License']=df_copy['License'].map(License_Encoded)   # encoding license\n",
    "df_copy['License']"
   ]
  },
  {
   "cell_type": "markdown",
   "metadata": {
    "collapsed": false
   },
   "source": [
    "# ***One-Hot encoding of genre***"
   ]
  },
  {
   "cell_type": "markdown",
   "metadata": {
    "collapsed": false
   },
   "source": [
    "One-hot encoding makes it easier to analyze and model the data. It can also eliminate bias that may arise from assigning a numerical value to the various genres."
   ]
  },
  {
   "cell_type": "code",
   "execution_count": null,
   "metadata": {
    "collapsed": false
   },
   "outputs": [],
   "source": [
    "df['Genre'] = df['Genre'].apply(lambda x: ast.literal_eval(x)) # convert string column to list column\n",
    "\n",
    "df['Genre'] = df['Genre'].apply(lambda x: '|'.join(x)) # convert genres column to string and join with '|'\n",
    "\n",
    "df_genre = df['Genre'].str.get_dummies() # create dummy columns for each genre"
   ]
  },
  {
   "cell_type": "code",
   "execution_count": null,
   "metadata": {
    "collapsed": false
   },
   "outputs": [],
   "source": [
    "# Concatenate the one-hot encoded Genre columns with the original dataset\n",
    "df_copy = pd.concat([df_copy, df_genre], axis=1)"
   ]
  },
  {
   "cell_type": "code",
   "execution_count": null,
   "metadata": {
    "collapsed": false
   },
   "outputs": [
    {
     "data": {
      "text/html": [
       "<div>\n",
       "<style scoped>\n",
       "    .dataframe tbody tr th:only-of-type {\n",
       "        vertical-align: middle;\n",
       "    }\n",
       "\n",
       "    .dataframe tbody tr th {\n",
       "        vertical-align: top;\n",
       "    }\n",
       "\n",
       "    .dataframe thead th {\n",
       "        text-align: right;\n",
       "    }\n",
       "</style>\n",
       "<table border=\"1\" class=\"dataframe\">\n",
       "  <thead>\n",
       "    <tr style=\"text-align: right;\">\n",
       "      <th></th>\n",
       "      <th>Unnamed: 0</th>\n",
       "      <th>Title</th>\n",
       "      <th>Movie Info</th>\n",
       "      <th>Distributor</th>\n",
       "      <th>Release Date</th>\n",
       "      <th>Domestic Sales (in $)</th>\n",
       "      <th>International Sales (in $)</th>\n",
       "      <th>World Sales (in $)</th>\n",
       "      <th>Genre</th>\n",
       "      <th>Movie Runtime</th>\n",
       "      <th>...</th>\n",
       "      <th>Horror</th>\n",
       "      <th>Music</th>\n",
       "      <th>Musical</th>\n",
       "      <th>Mystery</th>\n",
       "      <th>Romance</th>\n",
       "      <th>Sci-Fi</th>\n",
       "      <th>Sport</th>\n",
       "      <th>Thriller</th>\n",
       "      <th>War</th>\n",
       "      <th>Western</th>\n",
       "    </tr>\n",
       "  </thead>\n",
       "  <tbody>\n",
       "    <tr>\n",
       "      <th>0</th>\n",
       "      <td>0</td>\n",
       "      <td>Star Wars: Episode VII - The Force Awakens (2015)</td>\n",
       "      <td>As a new threat to the galaxy rises, Rey, a de...</td>\n",
       "      <td>Walt Disney Studios Motion Pictures</td>\n",
       "      <td>2015-12-16</td>\n",
       "      <td>936662225</td>\n",
       "      <td>1132859475</td>\n",
       "      <td>2069521700</td>\n",
       "      <td>['Action', 'Adventure', 'Sci-Fi']</td>\n",
       "      <td>2 hr 18 min</td>\n",
       "      <td>...</td>\n",
       "      <td>0</td>\n",
       "      <td>0</td>\n",
       "      <td>0</td>\n",
       "      <td>0</td>\n",
       "      <td>0</td>\n",
       "      <td>1</td>\n",
       "      <td>0</td>\n",
       "      <td>0</td>\n",
       "      <td>0</td>\n",
       "      <td>0</td>\n",
       "    </tr>\n",
       "    <tr>\n",
       "      <th>1</th>\n",
       "      <td>1</td>\n",
       "      <td>Avengers: Endgame (2019)</td>\n",
       "      <td>After the devastating events of Avengers: Infi...</td>\n",
       "      <td>Walt Disney Studios Motion Pictures</td>\n",
       "      <td>2019-04-24</td>\n",
       "      <td>858373000</td>\n",
       "      <td>1939128328</td>\n",
       "      <td>2797501328</td>\n",
       "      <td>['Action', 'Adventure', 'Drama', 'Sci-Fi']</td>\n",
       "      <td>3 hr 1 min</td>\n",
       "      <td>...</td>\n",
       "      <td>0</td>\n",
       "      <td>0</td>\n",
       "      <td>0</td>\n",
       "      <td>0</td>\n",
       "      <td>0</td>\n",
       "      <td>1</td>\n",
       "      <td>0</td>\n",
       "      <td>0</td>\n",
       "      <td>0</td>\n",
       "      <td>0</td>\n",
       "    </tr>\n",
       "    <tr>\n",
       "      <th>2</th>\n",
       "      <td>2</td>\n",
       "      <td>Avatar (2009)</td>\n",
       "      <td>A paraplegic Marine dispatched to the moon Pan...</td>\n",
       "      <td>Twentieth Century Fox</td>\n",
       "      <td>2009-12-16</td>\n",
       "      <td>760507625</td>\n",
       "      <td>2086738578</td>\n",
       "      <td>2847246203</td>\n",
       "      <td>['Action', 'Adventure', 'Fantasy', 'Sci-Fi']</td>\n",
       "      <td>2 hr 42 min</td>\n",
       "      <td>...</td>\n",
       "      <td>0</td>\n",
       "      <td>0</td>\n",
       "      <td>0</td>\n",
       "      <td>0</td>\n",
       "      <td>0</td>\n",
       "      <td>1</td>\n",
       "      <td>0</td>\n",
       "      <td>0</td>\n",
       "      <td>0</td>\n",
       "      <td>0</td>\n",
       "    </tr>\n",
       "    <tr>\n",
       "      <th>3</th>\n",
       "      <td>3</td>\n",
       "      <td>Black Panther (2018)</td>\n",
       "      <td>T'Challa, heir to the hidden but advanced king...</td>\n",
       "      <td>Walt Disney Studios Motion Pictures</td>\n",
       "      <td>NaT</td>\n",
       "      <td>700426566</td>\n",
       "      <td>647171407</td>\n",
       "      <td>1347597973</td>\n",
       "      <td>['Action', 'Adventure', 'Sci-Fi']</td>\n",
       "      <td>2 hr 14 min</td>\n",
       "      <td>...</td>\n",
       "      <td>0</td>\n",
       "      <td>0</td>\n",
       "      <td>0</td>\n",
       "      <td>0</td>\n",
       "      <td>0</td>\n",
       "      <td>1</td>\n",
       "      <td>0</td>\n",
       "      <td>0</td>\n",
       "      <td>0</td>\n",
       "      <td>0</td>\n",
       "    </tr>\n",
       "    <tr>\n",
       "      <th>4</th>\n",
       "      <td>4</td>\n",
       "      <td>Avengers: Infinity War (2018)</td>\n",
       "      <td>The Avengers and their allies must be willing ...</td>\n",
       "      <td>Walt Disney Studios Motion Pictures</td>\n",
       "      <td>NaT</td>\n",
       "      <td>678815482</td>\n",
       "      <td>1369544272</td>\n",
       "      <td>2048359754</td>\n",
       "      <td>['Action', 'Adventure', 'Sci-Fi']</td>\n",
       "      <td>2 hr 29 min</td>\n",
       "      <td>...</td>\n",
       "      <td>0</td>\n",
       "      <td>0</td>\n",
       "      <td>0</td>\n",
       "      <td>0</td>\n",
       "      <td>0</td>\n",
       "      <td>1</td>\n",
       "      <td>0</td>\n",
       "      <td>0</td>\n",
       "      <td>0</td>\n",
       "      <td>0</td>\n",
       "    </tr>\n",
       "  </tbody>\n",
       "</table>\n",
       "<p>5 rows × 33 columns</p>\n",
       "</div>"
      ],
      "text/plain": [
       "   Unnamed: 0                                              Title  \\\n",
       "0           0  Star Wars: Episode VII - The Force Awakens (2015)   \n",
       "1           1                           Avengers: Endgame (2019)   \n",
       "2           2                                      Avatar (2009)   \n",
       "3           3                               Black Panther (2018)   \n",
       "4           4                      Avengers: Infinity War (2018)   \n",
       "\n",
       "                                          Movie Info  \\\n",
       "0  As a new threat to the galaxy rises, Rey, a de...   \n",
       "1  After the devastating events of Avengers: Infi...   \n",
       "2  A paraplegic Marine dispatched to the moon Pan...   \n",
       "3  T'Challa, heir to the hidden but advanced king...   \n",
       "4  The Avengers and their allies must be willing ...   \n",
       "\n",
       "                           Distributor Release Date  Domestic Sales (in $)  \\\n",
       "0  Walt Disney Studios Motion Pictures   2015-12-16              936662225   \n",
       "1  Walt Disney Studios Motion Pictures   2019-04-24              858373000   \n",
       "2                Twentieth Century Fox   2009-12-16              760507625   \n",
       "3  Walt Disney Studios Motion Pictures          NaT              700426566   \n",
       "4  Walt Disney Studios Motion Pictures          NaT              678815482   \n",
       "\n",
       "   International Sales (in $)  World Sales (in $)  \\\n",
       "0                  1132859475          2069521700   \n",
       "1                  1939128328          2797501328   \n",
       "2                  2086738578          2847246203   \n",
       "3                   647171407          1347597973   \n",
       "4                  1369544272          2048359754   \n",
       "\n",
       "                                          Genre Movie Runtime  ...  Horror  \\\n",
       "0             ['Action', 'Adventure', 'Sci-Fi']   2 hr 18 min  ...       0   \n",
       "1    ['Action', 'Adventure', 'Drama', 'Sci-Fi']    3 hr 1 min  ...       0   \n",
       "2  ['Action', 'Adventure', 'Fantasy', 'Sci-Fi']   2 hr 42 min  ...       0   \n",
       "3             ['Action', 'Adventure', 'Sci-Fi']   2 hr 14 min  ...       0   \n",
       "4             ['Action', 'Adventure', 'Sci-Fi']   2 hr 29 min  ...       0   \n",
       "\n",
       "   Music  Musical  Mystery  Romance  Sci-Fi  Sport  Thriller  War  Western  \n",
       "0      0        0        0        0       1      0         0    0        0  \n",
       "1      0        0        0        0       1      0         0    0        0  \n",
       "2      0        0        0        0       1      0         0    0        0  \n",
       "3      0        0        0        0       1      0         0    0        0  \n",
       "4      0        0        0        0       1      0         0    0        0  \n",
       "\n",
       "[5 rows x 33 columns]"
      ]
     },
     "execution_count": 25,
     "metadata": {},
     "output_type": "execute_result"
    }
   ],
   "source": [
    "df_copy.head()"
   ]
  },
  {
   "cell_type": "code",
   "execution_count": 3,
   "metadata": {
    "collapsed": false
   },
   "outputs": [
    {
     "ename": "NameError",
     "evalue": "name 'df_genre' is not defined",
     "output_type": "error",
     "traceback": [
      "\u001B[1;31m---------------------------------------------------------------------------\u001B[0m",
      "\u001B[1;31mNameError\u001B[0m                                 Traceback (most recent call last)",
      "Cell \u001B[1;32mIn[3], line 2\u001B[0m\n\u001B[0;32m      1\u001B[0m \u001B[39m# Create a new column that contains a vector of the one-hot encoded Genre values for each row\u001B[39;00m\n\u001B[1;32m----> 2\u001B[0m genre_columns \u001B[39m=\u001B[39m \u001B[39mlist\u001B[39m(df_genre)\n\u001B[0;32m      3\u001B[0m df_copy[\u001B[39m'\u001B[39m\u001B[39mGenre Encoded\u001B[39m\u001B[39m'\u001B[39m] \u001B[39m=\u001B[39m df_copy[genre_columns]\u001B[39m.\u001B[39mvalues\u001B[39m.\u001B[39mtolist()\n\u001B[0;32m      4\u001B[0m df_copy\n",
      "\u001B[1;31mNameError\u001B[0m: name 'df_genre' is not defined"
     ]
    }
   ],
   "source": [
    "# Create a new column that contains a vector of the one-hot encoded Genre values for each row\n",
    "genre_columns = list(df_genre)\n",
    "df_copy['Genre Encoded'] = df_copy[genre_columns].values.tolist()\n",
    "df_copy"
   ]
  },
  {
   "cell_type": "markdown",
   "metadata": {
    "collapsed": false
   },
   "source": [
    "Let's clean up the data frame"
   ]
  },
  {
   "cell_type": "code",
   "execution_count": null,
   "metadata": {
    "collapsed": false
   },
   "outputs": [
    {
     "data": {
      "text/html": [
       "<div>\n",
       "<style scoped>\n",
       "    .dataframe tbody tr th:only-of-type {\n",
       "        vertical-align: middle;\n",
       "    }\n",
       "\n",
       "    .dataframe tbody tr th {\n",
       "        vertical-align: top;\n",
       "    }\n",
       "\n",
       "    .dataframe thead th {\n",
       "        text-align: right;\n",
       "    }\n",
       "</style>\n",
       "<table border=\"1\" class=\"dataframe\">\n",
       "  <thead>\n",
       "    <tr style=\"text-align: right;\">\n",
       "      <th></th>\n",
       "      <th>Unnamed: 0</th>\n",
       "      <th>Title</th>\n",
       "      <th>Movie Info</th>\n",
       "      <th>Distributor</th>\n",
       "      <th>Release Date</th>\n",
       "      <th>Domestic Sales (in $)</th>\n",
       "      <th>International Sales (in $)</th>\n",
       "      <th>World Sales (in $)</th>\n",
       "      <th>License</th>\n",
       "      <th>Runtime in Mins</th>\n",
       "      <th>Genre Encoded</th>\n",
       "    </tr>\n",
       "  </thead>\n",
       "  <tbody>\n",
       "    <tr>\n",
       "      <th>0</th>\n",
       "      <td>0</td>\n",
       "      <td>Star Wars: Episode VII - The Force Awakens (2015)</td>\n",
       "      <td>As a new threat to the galaxy rises, Rey, a de...</td>\n",
       "      <td>Walt Disney Studios Motion Pictures</td>\n",
       "      <td>2015-12-16</td>\n",
       "      <td>936662225</td>\n",
       "      <td>1132859475</td>\n",
       "      <td>2069521700</td>\n",
       "      <td>3</td>\n",
       "      <td>138.0</td>\n",
       "      <td>[1, 1, 0, 0, 0, 0, 0, 0, 0, 0, 0, 0, 0, 0, 0, ...</td>\n",
       "    </tr>\n",
       "    <tr>\n",
       "      <th>1</th>\n",
       "      <td>1</td>\n",
       "      <td>Avengers: Endgame (2019)</td>\n",
       "      <td>After the devastating events of Avengers: Infi...</td>\n",
       "      <td>Walt Disney Studios Motion Pictures</td>\n",
       "      <td>2019-04-24</td>\n",
       "      <td>858373000</td>\n",
       "      <td>1939128328</td>\n",
       "      <td>2797501328</td>\n",
       "      <td>3</td>\n",
       "      <td>181.0</td>\n",
       "      <td>[1, 1, 0, 0, 0, 0, 0, 1, 0, 0, 0, 0, 0, 0, 0, ...</td>\n",
       "    </tr>\n",
       "    <tr>\n",
       "      <th>2</th>\n",
       "      <td>2</td>\n",
       "      <td>Avatar (2009)</td>\n",
       "      <td>A paraplegic Marine dispatched to the moon Pan...</td>\n",
       "      <td>Twentieth Century Fox</td>\n",
       "      <td>2009-12-16</td>\n",
       "      <td>760507625</td>\n",
       "      <td>2086738578</td>\n",
       "      <td>2847246203</td>\n",
       "      <td>3</td>\n",
       "      <td>162.0</td>\n",
       "      <td>[1, 1, 0, 0, 0, 0, 0, 0, 0, 1, 0, 0, 0, 0, 0, ...</td>\n",
       "    </tr>\n",
       "    <tr>\n",
       "      <th>3</th>\n",
       "      <td>3</td>\n",
       "      <td>Black Panther (2018)</td>\n",
       "      <td>T'Challa, heir to the hidden but advanced king...</td>\n",
       "      <td>Walt Disney Studios Motion Pictures</td>\n",
       "      <td>NaT</td>\n",
       "      <td>700426566</td>\n",
       "      <td>647171407</td>\n",
       "      <td>1347597973</td>\n",
       "      <td>0</td>\n",
       "      <td>134.0</td>\n",
       "      <td>[1, 1, 0, 0, 0, 0, 0, 0, 0, 0, 0, 0, 0, 0, 0, ...</td>\n",
       "    </tr>\n",
       "    <tr>\n",
       "      <th>4</th>\n",
       "      <td>4</td>\n",
       "      <td>Avengers: Infinity War (2018)</td>\n",
       "      <td>The Avengers and their allies must be willing ...</td>\n",
       "      <td>Walt Disney Studios Motion Pictures</td>\n",
       "      <td>NaT</td>\n",
       "      <td>678815482</td>\n",
       "      <td>1369544272</td>\n",
       "      <td>2048359754</td>\n",
       "      <td>0</td>\n",
       "      <td>149.0</td>\n",
       "      <td>[1, 1, 0, 0, 0, 0, 0, 0, 0, 0, 0, 0, 0, 0, 0, ...</td>\n",
       "    </tr>\n",
       "  </tbody>\n",
       "</table>\n",
       "</div>"
      ],
      "text/plain": [
       "   Unnamed: 0                                              Title  \\\n",
       "0           0  Star Wars: Episode VII - The Force Awakens (2015)   \n",
       "1           1                           Avengers: Endgame (2019)   \n",
       "2           2                                      Avatar (2009)   \n",
       "3           3                               Black Panther (2018)   \n",
       "4           4                      Avengers: Infinity War (2018)   \n",
       "\n",
       "                                          Movie Info  \\\n",
       "0  As a new threat to the galaxy rises, Rey, a de...   \n",
       "1  After the devastating events of Avengers: Infi...   \n",
       "2  A paraplegic Marine dispatched to the moon Pan...   \n",
       "3  T'Challa, heir to the hidden but advanced king...   \n",
       "4  The Avengers and their allies must be willing ...   \n",
       "\n",
       "                           Distributor Release Date  Domestic Sales (in $)  \\\n",
       "0  Walt Disney Studios Motion Pictures   2015-12-16              936662225   \n",
       "1  Walt Disney Studios Motion Pictures   2019-04-24              858373000   \n",
       "2                Twentieth Century Fox   2009-12-16              760507625   \n",
       "3  Walt Disney Studios Motion Pictures          NaT              700426566   \n",
       "4  Walt Disney Studios Motion Pictures          NaT              678815482   \n",
       "\n",
       "   International Sales (in $)  World Sales (in $)  License  Runtime in Mins  \\\n",
       "0                  1132859475          2069521700        3            138.0   \n",
       "1                  1939128328          2797501328        3            181.0   \n",
       "2                  2086738578          2847246203        3            162.0   \n",
       "3                   647171407          1347597973        0            134.0   \n",
       "4                  1369544272          2048359754        0            149.0   \n",
       "\n",
       "                                       Genre Encoded  \n",
       "0  [1, 1, 0, 0, 0, 0, 0, 0, 0, 0, 0, 0, 0, 0, 0, ...  \n",
       "1  [1, 1, 0, 0, 0, 0, 0, 1, 0, 0, 0, 0, 0, 0, 0, ...  \n",
       "2  [1, 1, 0, 0, 0, 0, 0, 0, 0, 1, 0, 0, 0, 0, 0, ...  \n",
       "3  [1, 1, 0, 0, 0, 0, 0, 0, 0, 0, 0, 0, 0, 0, 0, ...  \n",
       "4  [1, 1, 0, 0, 0, 0, 0, 0, 0, 0, 0, 0, 0, 0, 0, ...  "
      ]
     },
     "execution_count": 47,
     "metadata": {},
     "output_type": "execute_result"
    }
   ],
   "source": [
    "#creating a new df, movie_df and removing some of the columns that have been manipulated\n",
    "movie_df = df_copy[[\"Unnamed: 0\",\"Title\", \"Movie Info\", \"Distributor\", \"Release Date\", \"Domestic Sales (in $)\", \"International Sales (in $)\", \"World Sales (in $)\", \"License\", \"Runtime in Mins\", \"Genre Encoded\"]]\n",
    "movie_df.head()"
   ]
  },
  {
   "cell_type": "markdown",
   "metadata": {
    "collapsed": false
   },
   "source": [
    "# Analysis"
   ]
  },
  {
   "cell_type": "markdown",
   "metadata": {
    "collapsed": false
   },
   "source": [
    "### Outlier analysis using Domestic sales (in $)"
   ]
  },
  {
   "cell_type": "code",
   "execution_count": null,
   "metadata": {
    "collapsed": false
   },
   "outputs": [
    {
     "data": {
      "text/plain": [
       "count    9.000000e+02\n",
       "mean     1.694776e+08\n",
       "std      1.043421e+08\n",
       "min      8.190346e+07\n",
       "25%      1.025566e+08\n",
       "50%      1.338492e+08\n",
       "75%      1.942324e+08\n",
       "max      9.366622e+08\n",
       "Name: Domestic Sales (in $), dtype: float64"
      ]
     },
     "execution_count": 57,
     "metadata": {},
     "output_type": "execute_result"
    }
   ],
   "source": [
    "movie_df['Domestic Sales (in $)'].describe()\n",
    "# we see that the max value is 9.36e^8 while the 75% is only 1.94e^8 this indicates that our max value is an outlier"
   ]
  },
  {
   "cell_type": "code",
   "execution_count": null,
   "metadata": {
    "collapsed": false
   },
   "outputs": [
    {
     "data": {
      "text/plain": [
       "<AxesSubplot:xlabel='Domestic Sales (in $)', ylabel='Count'>"
      ]
     },
     "execution_count": 48,
     "metadata": {},
     "output_type": "execute_result"
    },
    {
     "data": {
      "image/png": "[encoded data removed]",
      "text/plain": [
       "<Figure size 432x288 with 1 Axes>"
      ]
     },
     "metadata": {
      "needs_background": "light"
     },
     "output_type": "display_data"
    }
   ],
   "source": [
    "sns.histplot(data=movie_df, x='Domestic Sales (in $)')\n",
    "# left skewed, the majority of the data lies in the 1-2 e^8 range.It looks like there are a number of outliers in the upper range"
   ]
  },
  {
   "cell_type": "code",
   "execution_count": null,
   "metadata": {
    "collapsed": false
   },
   "outputs": [
    {
     "data": {
      "text/plain": [
       "<AxesSubplot:>"
      ]
     },
     "execution_count": 58,
     "metadata": {},
     "output_type": "execute_result"
    },
    {
     "data": {
      "image/png": "[encoded data removed]",
      "text/plain": [
       "<Figure size 432x288 with 1 Axes>"
      ]
     },
     "metadata": {
      "needs_background": "light"
     },
     "output_type": "display_data"
    }
   ],
   "source": [
    "movie_df.boxplot(column='Domestic Sales (in $)')\n",
    "#again we see the dots signify quite a number of outliers\n"
   ]
  },
  {
   "cell_type": "markdown",
   "metadata": {
    "collapsed": false
   },
   "source": [
    "In another situation one might want to remove or normalize the outliers. In this case I opted not to remove the outliers because we are interested in the characteristics of the top 10. We specifically want to investigate what makes those top movies perform exceptionally."
   ]
  },
  {
   "cell_type": "markdown",
   "metadata": {
    "collapsed": false
   },
   "source": [
    "There are 3 columns accounting for sales. Domestic, International and world sales. Next I will look at the relationship between the three."
   ]
  },
  {
   "cell_type": "code",
   "execution_count": null,
   "metadata": {
    "collapsed": false
   },
   "outputs": [],
   "source": [
    "revenue = movie_df[[\"Domestic Sales (in $)\", \"International Sales (in $)\", \"World Sales (in $)\"]]"
   ]
  },
  {
   "cell_type": "code",
   "execution_count": null,
   "metadata": {
    "collapsed": false
   },
   "outputs": [
    {
     "data": {
      "text/plain": [
       "<AxesSubplot:>"
      ]
     },
     "execution_count": 54,
     "metadata": {},
     "output_type": "execute_result"
    },
    {
     "data": {
      "image/png": "[encoded data removed]",
      "text/plain": [
       "<Figure size 432x288 with 1 Axes>"
      ]
     },
     "metadata": {
      "needs_background": "light"
     },
     "output_type": "display_data"
    }
   ],
   "source": [
    "sns.boxplot(data=revenue)  # create a  box plot for each category of sales"
   ]
  },
  {
   "cell_type": "markdown",
   "metadata": {
    "collapsed": false
   },
   "source": [
    "The three Sales categories all have significant outliers"
   ]
  },
  {
   "cell_type": "code",
   "execution_count": null,
   "metadata": {
    "collapsed": false
   },
   "outputs": [
    {
     "data": {
      "text/plain": [
       "<seaborn.axisgrid.PairGrid at 0x182c7a05cd0>"
      ]
     },
     "execution_count": 50,
     "metadata": {},
     "output_type": "execute_result"
    },
    {
     "data": {
      "image/png": "[encoded data removed]",
      "text/plain": [
       "<Figure size 540x540 with 12 Axes>"
      ]
     },
     "metadata": {
      "needs_background": "light"
     },
     "output_type": "display_data"
    }
   ],
   "source": [
    "sns.pairplot(movie_df[[\"Domestic Sales (in $)\", \"International Sales (in $)\", \"World Sales (in $)\"]]) #plot these 3 columns against each other"
   ]
  },
  {
   "cell_type": "markdown",
   "metadata": {
    "collapsed": false
   },
   "source": [
    "We see that there is a fairly linear relationship between Domestic, International and World Sales. Therefore, we can just analyse one and make some general comments wrt sales."
   ]
  },
  {
   "cell_type": "code",
   "execution_count": null,
   "metadata": {
    "collapsed": false
   },
   "outputs": [
    {
     "data": {
      "text/html": [
       "<div>\n",
       "<style scoped>\n",
       "    .dataframe tbody tr th:only-of-type {\n",
       "        vertical-align: middle;\n",
       "    }\n",
       "\n",
       "    .dataframe tbody tr th {\n",
       "        vertical-align: top;\n",
       "    }\n",
       "\n",
       "    .dataframe thead th {\n",
       "        text-align: right;\n",
       "    }\n",
       "</style>\n",
       "<table border=\"1\" class=\"dataframe\">\n",
       "  <thead>\n",
       "    <tr style=\"text-align: right;\">\n",
       "      <th></th>\n",
       "      <th>Domestic Sales (in $)</th>\n",
       "      <th>International Sales (in $)</th>\n",
       "      <th>World Sales (in $)</th>\n",
       "    </tr>\n",
       "  </thead>\n",
       "  <tbody>\n",
       "    <tr>\n",
       "      <th>Domestic Sales (in $)</th>\n",
       "      <td>1.000000</td>\n",
       "      <td>0.795565</td>\n",
       "      <td>0.903561</td>\n",
       "    </tr>\n",
       "    <tr>\n",
       "      <th>International Sales (in $)</th>\n",
       "      <td>0.795565</td>\n",
       "      <td>1.000000</td>\n",
       "      <td>0.976868</td>\n",
       "    </tr>\n",
       "    <tr>\n",
       "      <th>World Sales (in $)</th>\n",
       "      <td>0.903561</td>\n",
       "      <td>0.976868</td>\n",
       "      <td>1.000000</td>\n",
       "    </tr>\n",
       "  </tbody>\n",
       "</table>\n",
       "</div>"
      ],
      "text/plain": [
       "                            Domestic Sales (in $)  International Sales (in $)  \\\n",
       "Domestic Sales (in $)                    1.000000                    0.795565   \n",
       "International Sales (in $)               0.795565                    1.000000   \n",
       "World Sales (in $)                       0.903561                    0.976868   \n",
       "\n",
       "                            World Sales (in $)  \n",
       "Domestic Sales (in $)                 0.903561  \n",
       "International Sales (in $)            0.976868  \n",
       "World Sales (in $)                    1.000000  "
      ]
     },
     "execution_count": 132,
     "metadata": {},
     "output_type": "execute_result"
    }
   ],
   "source": [
    "corr = df[['Domestic Sales (in $)', 'International Sales (in $)', 'World Sales (in $)']].corr() #find the correlation between these values\n",
    "corr"
   ]
  },
  {
   "cell_type": "markdown",
   "metadata": {
    "collapsed": false
   },
   "source": [
    "The observation of the linear relationship between the sales categories is confirmed by observing the correlation. There is strong positive correlation between the three categories of Sales"
   ]
  },
  {
   "cell_type": "markdown",
   "metadata": {
    "collapsed": false
   },
   "source": [
    "Next we investigate the relationship between distributor and Domestic Sales"
   ]
  },
  {
   "cell_type": "code",
   "execution_count": null,
   "metadata": {
    "collapsed": false
   },
   "outputs": [
    {
     "data": {
      "image/png": "[encoded data removed]",
      "text/plain": [
       "<Figure size 432x288 with 1 Axes>"
      ]
     },
     "metadata": {
      "needs_background": "light"
     },
     "output_type": "display_data"
    }
   ],
   "source": [
    "# Create a box plot of revenue for each distributor. Scatter plot was too jumbled\n",
    "sns.boxplot(x='Distributor', y='Domestic Sales (in $)', data=movie_df)\n",
    "\n",
    "plt.xticks(rotation=90)  # Rotate the x-axis labels to be vertical\n",
    "\n",
    "# Add labels and title to the plot\n",
    "plt.xlabel('Distributor')\n",
    "plt.ylabel('Domestic Sales (in $)')\n",
    "plt.title('Domestic Sales vs Distributor Box Plot')\n",
    "\n",
    "plt.show()  # Show the plot"
   ]
  },
  {
   "cell_type": "markdown",
   "metadata": {
    "collapsed": false
   },
   "source": [
    "Walt Disney Studios produced many of the highest performing films. However looking at the plot for Summit Entertainment. It's releases are consistently better performing than the bulk of Walt Disney's films"
   ]
  },
  {
   "cell_type": "code",
   "execution_count": null,
   "metadata": {
    "collapsed": false
   },
   "outputs": [
    {
     "data": {
      "text/html": [
       "<div>\n",
       "<style scoped>\n",
       "    .dataframe tbody tr th:only-of-type {\n",
       "        vertical-align: middle;\n",
       "    }\n",
       "\n",
       "    .dataframe tbody tr th {\n",
       "        vertical-align: top;\n",
       "    }\n",
       "\n",
       "    .dataframe thead th {\n",
       "        text-align: right;\n",
       "    }\n",
       "</style>\n",
       "<table border=\"1\" class=\"dataframe\">\n",
       "  <thead>\n",
       "    <tr style=\"text-align: right;\">\n",
       "      <th></th>\n",
       "      <th>Unnamed: 0</th>\n",
       "      <th>Title</th>\n",
       "      <th>Movie Info</th>\n",
       "      <th>Distributor</th>\n",
       "      <th>Release Date</th>\n",
       "      <th>Domestic Sales (in $)</th>\n",
       "      <th>International Sales (in $)</th>\n",
       "      <th>World Sales (in $)</th>\n",
       "      <th>Genre</th>\n",
       "      <th>Movie Runtime</th>\n",
       "      <th>License</th>\n",
       "      <th>cluster</th>\n",
       "    </tr>\n",
       "  </thead>\n",
       "  <tbody>\n",
       "    <tr>\n",
       "      <th>89</th>\n",
       "      <td>89</td>\n",
       "      <td>The Twilight Saga: Eclipse (2010)</td>\n",
       "      <td>As a string of mysterious killings grips Seatt...</td>\n",
       "      <td>Summit Entertainment</td>\n",
       "      <td>June 30, 2010</td>\n",
       "      <td>300531751</td>\n",
       "      <td>397959596</td>\n",
       "      <td>698491347</td>\n",
       "      <td>Action|Adventure|Drama|Fantasy|Romance|Thriller</td>\n",
       "      <td>2 hr 4 min</td>\n",
       "      <td>PG-13</td>\n",
       "      <td>3</td>\n",
       "    </tr>\n",
       "    <tr>\n",
       "      <th>90</th>\n",
       "      <td>90</td>\n",
       "      <td>The Twilight Saga: New Moon (2009)</td>\n",
       "      <td>Edward leaves Bella after an attack that nearl...</td>\n",
       "      <td>Summit Entertainment</td>\n",
       "      <td>November 18, 2009</td>\n",
       "      <td>297816253</td>\n",
       "      <td>413209228</td>\n",
       "      <td>711025481</td>\n",
       "      <td>Adventure|Drama|Fantasy|Romance</td>\n",
       "      <td>2 hr 10 min</td>\n",
       "      <td>PG-13</td>\n",
       "      <td>3</td>\n",
       "    </tr>\n",
       "    <tr>\n",
       "      <th>105</th>\n",
       "      <td>105</td>\n",
       "      <td>The Twilight Saga: Breaking Dawn - Part 1 (2011)</td>\n",
       "      <td>The Quileutes close in on expecting parents Ed...</td>\n",
       "      <td>Summit Entertainment</td>\n",
       "      <td>November 16, 2011</td>\n",
       "      <td>281287133</td>\n",
       "      <td>430918723</td>\n",
       "      <td>712205856</td>\n",
       "      <td>Adventure|Drama|Fantasy|Romance|Thriller</td>\n",
       "      <td>1 hr 57 min</td>\n",
       "      <td>PG-13</td>\n",
       "      <td>3</td>\n",
       "    </tr>\n",
       "    <tr>\n",
       "      <th>225</th>\n",
       "      <td>225</td>\n",
       "      <td>Twilight (2008)</td>\n",
       "      <td>When Bella Swan moves to a small town in the P...</td>\n",
       "      <td>Summit Entertainment</td>\n",
       "      <td>November 20, 2008</td>\n",
       "      <td>193962473</td>\n",
       "      <td>214467942</td>\n",
       "      <td>408430415</td>\n",
       "      <td>Drama|Fantasy|Romance</td>\n",
       "      <td>2 hr 2 min</td>\n",
       "      <td>PG-13</td>\n",
       "      <td>3</td>\n",
       "    </tr>\n",
       "    <tr>\n",
       "      <th>803</th>\n",
       "      <td>803</td>\n",
       "      <td>RED (2010)</td>\n",
       "      <td>When his peaceful life is threatened by a high...</td>\n",
       "      <td>Summit Entertainment</td>\n",
       "      <td>October 14, 2010</td>\n",
       "      <td>90380162</td>\n",
       "      <td>108626225</td>\n",
       "      <td>199006387</td>\n",
       "      <td>Action|Comedy|Crime|Thriller</td>\n",
       "      <td>1 hr 51 min</td>\n",
       "      <td>PG-13</td>\n",
       "      <td>3</td>\n",
       "    </tr>\n",
       "  </tbody>\n",
       "</table>\n",
       "</div>"
      ],
      "text/plain": [
       "     Unnamed: 0                                             Title  \\\n",
       "89           89                 The Twilight Saga: Eclipse (2010)   \n",
       "90           90                The Twilight Saga: New Moon (2009)   \n",
       "105         105  The Twilight Saga: Breaking Dawn - Part 1 (2011)   \n",
       "225         225                                   Twilight (2008)   \n",
       "803         803                                        RED (2010)   \n",
       "\n",
       "                                            Movie Info           Distributor  \\\n",
       "89   As a string of mysterious killings grips Seatt...  Summit Entertainment   \n",
       "90   Edward leaves Bella after an attack that nearl...  Summit Entertainment   \n",
       "105  The Quileutes close in on expecting parents Ed...  Summit Entertainment   \n",
       "225  When Bella Swan moves to a small town in the P...  Summit Entertainment   \n",
       "803  When his peaceful life is threatened by a high...  Summit Entertainment   \n",
       "\n",
       "          Release Date  Domestic Sales (in $)  International Sales (in $)  \\\n",
       "89       June 30, 2010              300531751                   397959596   \n",
       "90   November 18, 2009              297816253                   413209228   \n",
       "105  November 16, 2011              281287133                   430918723   \n",
       "225  November 20, 2008              193962473                   214467942   \n",
       "803   October 14, 2010               90380162                   108626225   \n",
       "\n",
       "     World Sales (in $)                                            Genre  \\\n",
       "89            698491347  Action|Adventure|Drama|Fantasy|Romance|Thriller   \n",
       "90            711025481                  Adventure|Drama|Fantasy|Romance   \n",
       "105           712205856         Adventure|Drama|Fantasy|Romance|Thriller   \n",
       "225           408430415                            Drama|Fantasy|Romance   \n",
       "803           199006387                     Action|Comedy|Crime|Thriller   \n",
       "\n",
       "    Movie Runtime License  cluster  \n",
       "89     2 hr 4 min   PG-13        3  \n",
       "90    2 hr 10 min   PG-13        3  \n",
       "105   1 hr 57 min   PG-13        3  \n",
       "225    2 hr 2 min   PG-13        3  \n",
       "803   1 hr 51 min   PG-13        3  "
      ]
     },
     "execution_count": 136,
     "metadata": {},
     "output_type": "execute_result"
    }
   ],
   "source": [
    "# filter by distributor and sort by box office\n",
    "top_summit_films = df[df['Distributor'] == 'Summit Entertainment'].sort_values('Domestic Sales (in $)', ascending=False)\n",
    "\n",
    "top_summit_films.head()"
   ]
  },
  {
   "cell_type": "markdown",
   "metadata": {
    "collapsed": false
   },
   "source": [
    "There were only 5 films by Summit Entertainment in the df.\n",
    "All were PG-13, runtime was approximately 2hrs. 4 were Drama, 4 Fantasy, 4 Romance, 3 Thriller, and 3 were Adventure."
   ]
  },
  {
   "cell_type": "markdown",
   "metadata": {
    "collapsed": false
   },
   "source": [
    "\n",
    "### Exploring Relationship between license and revenue"
   ]
  },
  {
   "cell_type": "code",
   "execution_count": null,
   "metadata": {
    "collapsed": false
   },
   "outputs": [
    {
     "data": {
      "image/png": "[encoded data removed]",
      "text/plain": [
       "<Figure size 432x288 with 1 Axes>"
      ]
     },
     "metadata": {
      "needs_background": "light"
     },
     "output_type": "display_data"
    }
   ],
   "source": [
    "# Create a box plot of Domestic Sales for each category of License\n",
    "sns.boxplot(x='License', y='Domestic Sales (in $)', data=movie_df)\n",
    "plt.xlabel('License')\n",
    "plt.ylabel('Domestic Sales (in $)')\n",
    "plt.title('Relationship between License and Domestic Sales')\n",
    "plt.show()"
   ]
  },
  {
   "cell_type": "markdown",
   "metadata": {
    "collapsed": false
   },
   "source": [
    "We see that overall, with the exception of category 4(R-rated) the bulk of the sales are similar. Category 3 (PG-13) has the most positive outliers"
   ]
  },
  {
   "cell_type": "code",
   "execution_count": null,
   "metadata": {
    "collapsed": false
   },
   "outputs": [
    {
     "name": "stdout",
     "output_type": "stream",
     "text": [
      "Average Domestic Sales for each category of License:\n"
     ]
    },
    {
     "data": {
      "text/plain": [
       "License\n",
       "G        1.865048e+08\n",
       "PG       1.806711e+08\n",
       "PG-13    1.873308e+08\n",
       "R        1.312289e+08\n",
       "Name: Domestic Sales (in $), dtype: float64"
      ]
     },
     "execution_count": 144,
     "metadata": {},
     "output_type": "execute_result"
    }
   ],
   "source": [
    "# Calculate the average revenue for each category of License\n",
    "avg_revenue = df.groupby('License')['Domestic Sales (in $)'].mean()\n",
    "avg_revenue"
   ]
  },
  {
   "cell_type": "markdown",
   "metadata": {
    "collapsed": false
   },
   "source": [
    "The average domestic sales for G and PG-13 are particularly similar with PG sales close behind. But certainly, on average, R rated movies make less money."
   ]
  },
  {
   "cell_type": "markdown",
   "metadata": {
    "collapsed": false
   },
   "source": [
    "### Inclusion of Additional Data\n"
   ]
  },
  {
   "cell_type": "markdown",
   "metadata": {
    "collapsed": false
   },
   "source": [
    "The additional dataset was sourced on Kaggle.com. I believe it is useful as it also includes actors, directors and box office revenue. This can be used to examine the relationship between certain actors/ directors and revenue.\n"
   ]
  },
  {
   "cell_type": "code",
   "execution_count": null,
   "metadata": {
    "collapsed": false,
    "pycharm": {
     "is_executing": true
    }
   },
   "outputs": [],
   "source": [
    "# Reading in the Additional CSV to df_added\n",
    "df_added = pd.read_csv(\"C:/Users\\kirst\\OneDrive\\Desktop\\)\\Semester 2 Courses\\COMP 6940 Big Data and Visual Analytics/IMDB Top 250 Movies.csv\")\n",
    "df_added.head()"
   ]
  },
  {
   "cell_type": "code",
   "execution_count": null,
   "metadata": {
    "collapsed": false
   },
   "outputs": [],
   "source": [
    "df_added.info()"
   ]
  },
  {
   "cell_type": "markdown",
   "metadata": {
    "collapsed": false
   },
   "source": [
    "We see that this data set has no missing data.\n"
   ]
  },
  {
   "cell_type": "markdown",
   "metadata": {
    "collapsed": false
   },
   "source": [
    "Just to explore the additional data a bit more, we look at the most common genre combinations below."
   ]
  },
  {
   "cell_type": "code",
   "execution_count": null,
   "metadata": {
    "collapsed": false,
    "pycharm": {
     "is_executing": true
    }
   },
   "outputs": [],
   "source": [
    "genre_counts = df_added['genre'].value_counts()\n",
    "\n",
    "# The Top 10 most common genres\n",
    "display(genre_counts.head(10))"
   ]
  },
  {
   "cell_type": "code",
   "execution_count": null,
   "metadata": {
    "collapsed": false
   },
   "outputs": [],
   "source": [
    "from numpy import add\n",
    "plt.figure(figsize=(10,6),dpi=50)\n",
    "df_added.groupby('directors').size().sort_values(ascending=False).head(10).plot(kind = 'bar', color = sns.color_palette('Set2'))\n",
    "plt.xlabel(\"Directors Name\")\n",
    "plt.ylabel(\"Number of Movies\")\n",
    "plt.title(\"Top 10 directors\")\n",
    "plt.show()"
   ]
  },
  {
   "cell_type": "code",
   "execution_count": null,
   "metadata": {
    "collapsed": false
   },
   "outputs": [],
   "source": [
    "print(df_added['box_office'].dtypes)"
   ]
  },
  {
   "cell_type": "markdown",
   "metadata": {
    "collapsed": false
   },
   "source": [
    "I attempted to convert the box_office values to numerical but encountered a few road blocks. Such as some rows having the value 'Not Available' and some having a number with the word 'estimated' in brackets.\n",
    "\n",
    "I opted to replace all not available with 0"
   ]
  },
  {
   "cell_type": "code",
   "execution_count": null,
   "metadata": {
    "collapsed": false
   },
   "outputs": [],
   "source": [
    "# Replace 'Not Available' values with 0 in the 'box_office' column\n",
    "df_added['box_office'] = df_added['box_office'].replace('Not Available', 0)\n",
    "\n",
    "#removes anything non-numeric that is not a digit or a period\n",
    "df_added['box_office'] = df_added['box_office'].str.replace(r'\\D+', '').astype(float)\n",
    "\n",
    "# Convert box office to numerical datatype\n",
    "df_added['box_office'] = df_added['box_office'].astype(float)\n",
    "\n",
    "print(df_added['box_office'].dtypes)"
   ]
  },
  {
   "cell_type": "code",
   "execution_count": null,
   "metadata": {
    "collapsed": false
   },
   "outputs": [],
   "source": [
    "# Group the data by director and calculate the total revenue generated\n",
    "director_revenue = df_added.groupby('directors')['box_office'].sum()\n",
    "\n",
    "# Sort the data in descending order based on the total revenue generated\n",
    "director_revenue = director_revenue.sort_values(ascending=False)\n",
    "\n",
    "# Select the top 10 directors with the highest total revenue\n",
    "top_directors = director_revenue[:10]\n",
    "\n",
    "top_directors"
   ]
  },
  {
   "cell_type": "code",
   "execution_count": null,
   "outputs": [],
   "source": [
    "\n",
    "# Create the bar chart\n",
    "plt.bar(top_directors.index, top_directors.values)\n",
    "\n",
    "# Set the x-axis tick labels and rotate them vertically\n",
    "plt.xticks(rotation=90)\n",
    "plt.gca().set_xticklabels(top_directors.index)\n",
    "\n",
    "# Set the title and axis labels\n",
    "plt.title('Top 10 Directors by Total Revenue')\n",
    "plt.xlabel('Director')\n",
    "plt.ylabel('Total Box Office Revenue')\n",
    "\n",
    "# Display the chart\n",
    "plt.show()"
   ],
   "metadata": {
    "collapsed": false
   }
  },
  {
   "attachments": {},
   "cell_type": "markdown",
   "metadata": {
    "collapsed": false
   },
   "source": [
    "# Inferences & Recommendations"
   ]
  },
  {
   "cell_type": "markdown",
   "metadata": {
    "collapsed": false
   },
   "source": [
    "Below we see the top 10 highest earning films (Domestic Sales)"
   ]
  },
  {
   "cell_type": "code",
   "execution_count": null,
   "metadata": {
    "collapsed": false
   },
   "outputs": [
    {
     "data": {
      "text/html": [
       "<div>\n",
       "<style scoped>\n",
       "    .dataframe tbody tr th:only-of-type {\n",
       "        vertical-align: middle;\n",
       "    }\n",
       "\n",
       "    .dataframe tbody tr th {\n",
       "        vertical-align: top;\n",
       "    }\n",
       "\n",
       "    .dataframe thead th {\n",
       "        text-align: right;\n",
       "    }\n",
       "</style>\n",
       "<table border=\"1\" class=\"dataframe\">\n",
       "  <thead>\n",
       "    <tr style=\"text-align: right;\">\n",
       "      <th></th>\n",
       "      <th>Unnamed: 0</th>\n",
       "      <th>Title</th>\n",
       "      <th>Movie Info</th>\n",
       "      <th>Distributor</th>\n",
       "      <th>Release Date</th>\n",
       "      <th>Domestic Sales (in $)</th>\n",
       "      <th>International Sales (in $)</th>\n",
       "      <th>World Sales (in $)</th>\n",
       "      <th>License</th>\n",
       "      <th>Runtime in Mins</th>\n",
       "      <th>Genre Encoded</th>\n",
       "    </tr>\n",
       "  </thead>\n",
       "  <tbody>\n",
       "    <tr>\n",
       "      <th>0</th>\n",
       "      <td>0</td>\n",
       "      <td>Star Wars: Episode VII - The Force Awakens (2015)</td>\n",
       "      <td>As a new threat to the galaxy rises, Rey, a de...</td>\n",
       "      <td>Walt Disney Studios Motion Pictures</td>\n",
       "      <td>2015-12-16</td>\n",
       "      <td>936662225</td>\n",
       "      <td>1132859475</td>\n",
       "      <td>2069521700</td>\n",
       "      <td>3</td>\n",
       "      <td>138.0</td>\n",
       "      <td>[1, 1, 0, 0, 0, 0, 0, 0, 0, 0, 0, 0, 0, 0, 0, ...</td>\n",
       "    </tr>\n",
       "    <tr>\n",
       "      <th>1</th>\n",
       "      <td>1</td>\n",
       "      <td>Avengers: Endgame (2019)</td>\n",
       "      <td>After the devastating events of Avengers: Infi...</td>\n",
       "      <td>Walt Disney Studios Motion Pictures</td>\n",
       "      <td>2019-04-24</td>\n",
       "      <td>858373000</td>\n",
       "      <td>1939128328</td>\n",
       "      <td>2797501328</td>\n",
       "      <td>3</td>\n",
       "      <td>181.0</td>\n",
       "      <td>[1, 1, 0, 0, 0, 0, 0, 1, 0, 0, 0, 0, 0, 0, 0, ...</td>\n",
       "    </tr>\n",
       "    <tr>\n",
       "      <th>2</th>\n",
       "      <td>2</td>\n",
       "      <td>Avatar (2009)</td>\n",
       "      <td>A paraplegic Marine dispatched to the moon Pan...</td>\n",
       "      <td>Twentieth Century Fox</td>\n",
       "      <td>2009-12-16</td>\n",
       "      <td>760507625</td>\n",
       "      <td>2086738578</td>\n",
       "      <td>2847246203</td>\n",
       "      <td>3</td>\n",
       "      <td>162.0</td>\n",
       "      <td>[1, 1, 0, 0, 0, 0, 0, 0, 0, 1, 0, 0, 0, 0, 0, ...</td>\n",
       "    </tr>\n",
       "    <tr>\n",
       "      <th>3</th>\n",
       "      <td>3</td>\n",
       "      <td>Black Panther (2018)</td>\n",
       "      <td>T'Challa, heir to the hidden but advanced king...</td>\n",
       "      <td>Walt Disney Studios Motion Pictures</td>\n",
       "      <td>NaT</td>\n",
       "      <td>700426566</td>\n",
       "      <td>647171407</td>\n",
       "      <td>1347597973</td>\n",
       "      <td>0</td>\n",
       "      <td>134.0</td>\n",
       "      <td>[1, 1, 0, 0, 0, 0, 0, 0, 0, 0, 0, 0, 0, 0, 0, ...</td>\n",
       "    </tr>\n",
       "    <tr>\n",
       "      <th>4</th>\n",
       "      <td>4</td>\n",
       "      <td>Avengers: Infinity War (2018)</td>\n",
       "      <td>The Avengers and their allies must be willing ...</td>\n",
       "      <td>Walt Disney Studios Motion Pictures</td>\n",
       "      <td>NaT</td>\n",
       "      <td>678815482</td>\n",
       "      <td>1369544272</td>\n",
       "      <td>2048359754</td>\n",
       "      <td>0</td>\n",
       "      <td>149.0</td>\n",
       "      <td>[1, 1, 0, 0, 0, 0, 0, 0, 0, 0, 0, 0, 0, 0, 0, ...</td>\n",
       "    </tr>\n",
       "    <tr>\n",
       "      <th>5</th>\n",
       "      <td>5</td>\n",
       "      <td>Spider-Man: No Way Home (2021)</td>\n",
       "      <td>With Spider-Man's identity now revealed, Peter...</td>\n",
       "      <td>Sony Pictures Entertainment (SPE)</td>\n",
       "      <td>NaT</td>\n",
       "      <td>675813257</td>\n",
       "      <td>868642706</td>\n",
       "      <td>1544455963</td>\n",
       "      <td>0</td>\n",
       "      <td>148.0</td>\n",
       "      <td>[1, 1, 0, 0, 0, 0, 0, 0, 0, 1, 0, 0, 0, 0, 0, ...</td>\n",
       "    </tr>\n",
       "    <tr>\n",
       "      <th>6</th>\n",
       "      <td>6</td>\n",
       "      <td>Titanic (1997)</td>\n",
       "      <td>A seventeen-year-old aristocrat falls in love ...</td>\n",
       "      <td>Paramount Pictures</td>\n",
       "      <td>1997-12-19</td>\n",
       "      <td>659363944</td>\n",
       "      <td>1542283320</td>\n",
       "      <td>2201647264</td>\n",
       "      <td>3</td>\n",
       "      <td>194.0</td>\n",
       "      <td>[0, 0, 0, 0, 0, 0, 0, 1, 0, 0, 0, 0, 0, 0, 0, ...</td>\n",
       "    </tr>\n",
       "    <tr>\n",
       "      <th>7</th>\n",
       "      <td>7</td>\n",
       "      <td>Jurassic World (2015)</td>\n",
       "      <td>A new theme park, built on the original site o...</td>\n",
       "      <td>Universal Pictures</td>\n",
       "      <td>2015-06-10</td>\n",
       "      <td>652385625</td>\n",
       "      <td>1018130819</td>\n",
       "      <td>1670516444</td>\n",
       "      <td>3</td>\n",
       "      <td>124.0</td>\n",
       "      <td>[1, 1, 0, 0, 0, 0, 0, 0, 0, 0, 0, 0, 0, 0, 0, ...</td>\n",
       "    </tr>\n",
       "    <tr>\n",
       "      <th>8</th>\n",
       "      <td>8</td>\n",
       "      <td>The Avengers (2012)</td>\n",
       "      <td>Earth's mightiest heroes must come together an...</td>\n",
       "      <td>Walt Disney Studios Motion Pictures</td>\n",
       "      <td>2012-04-25</td>\n",
       "      <td>623357910</td>\n",
       "      <td>895457605</td>\n",
       "      <td>1518815515</td>\n",
       "      <td>3</td>\n",
       "      <td>143.0</td>\n",
       "      <td>[1, 1, 0, 0, 0, 0, 0, 0, 0, 0, 0, 0, 0, 0, 0, ...</td>\n",
       "    </tr>\n",
       "    <tr>\n",
       "      <th>9</th>\n",
       "      <td>9</td>\n",
       "      <td>Star Wars: Episode VIII - The Last Jedi (2017)</td>\n",
       "      <td>The Star Wars saga continues as new heroes and...</td>\n",
       "      <td>Walt Disney Studios Motion Pictures</td>\n",
       "      <td>2017-12-13</td>\n",
       "      <td>620181382</td>\n",
       "      <td>712517448</td>\n",
       "      <td>1332698830</td>\n",
       "      <td>3</td>\n",
       "      <td>152.0</td>\n",
       "      <td>[1, 1, 0, 0, 0, 0, 0, 0, 0, 1, 0, 0, 0, 0, 0, ...</td>\n",
       "    </tr>\n",
       "  </tbody>\n",
       "</table>\n",
       "</div>"
      ],
      "text/plain": [
       "   Unnamed: 0                                              Title  \\\n",
       "0           0  Star Wars: Episode VII - The Force Awakens (2015)   \n",
       "1           1                           Avengers: Endgame (2019)   \n",
       "2           2                                      Avatar (2009)   \n",
       "3           3                               Black Panther (2018)   \n",
       "4           4                      Avengers: Infinity War (2018)   \n",
       "5           5                     Spider-Man: No Way Home (2021)   \n",
       "6           6                                     Titanic (1997)   \n",
       "7           7                              Jurassic World (2015)   \n",
       "8           8                                The Avengers (2012)   \n",
       "9           9     Star Wars: Episode VIII - The Last Jedi (2017)   \n",
       "\n",
       "                                          Movie Info  \\\n",
       "0  As a new threat to the galaxy rises, Rey, a de...   \n",
       "1  After the devastating events of Avengers: Infi...   \n",
       "2  A paraplegic Marine dispatched to the moon Pan...   \n",
       "3  T'Challa, heir to the hidden but advanced king...   \n",
       "4  The Avengers and their allies must be willing ...   \n",
       "5  With Spider-Man's identity now revealed, Peter...   \n",
       "6  A seventeen-year-old aristocrat falls in love ...   \n",
       "7  A new theme park, built on the original site o...   \n",
       "8  Earth's mightiest heroes must come together an...   \n",
       "9  The Star Wars saga continues as new heroes and...   \n",
       "\n",
       "                           Distributor Release Date  Domestic Sales (in $)  \\\n",
       "0  Walt Disney Studios Motion Pictures   2015-12-16              936662225   \n",
       "1  Walt Disney Studios Motion Pictures   2019-04-24              858373000   \n",
       "2                Twentieth Century Fox   2009-12-16              760507625   \n",
       "3  Walt Disney Studios Motion Pictures          NaT              700426566   \n",
       "4  Walt Disney Studios Motion Pictures          NaT              678815482   \n",
       "5    Sony Pictures Entertainment (SPE)          NaT              675813257   \n",
       "6                   Paramount Pictures   1997-12-19              659363944   \n",
       "7                   Universal Pictures   2015-06-10              652385625   \n",
       "8  Walt Disney Studios Motion Pictures   2012-04-25              623357910   \n",
       "9  Walt Disney Studios Motion Pictures   2017-12-13              620181382   \n",
       "\n",
       "   International Sales (in $)  World Sales (in $)  License  Runtime in Mins  \\\n",
       "0                  1132859475          2069521700        3            138.0   \n",
       "1                  1939128328          2797501328        3            181.0   \n",
       "2                  2086738578          2847246203        3            162.0   \n",
       "3                   647171407          1347597973        0            134.0   \n",
       "4                  1369544272          2048359754        0            149.0   \n",
       "5                   868642706          1544455963        0            148.0   \n",
       "6                  1542283320          2201647264        3            194.0   \n",
       "7                  1018130819          1670516444        3            124.0   \n",
       "8                   895457605          1518815515        3            143.0   \n",
       "9                   712517448          1332698830        3            152.0   \n",
       "\n",
       "                                       Genre Encoded  \n",
       "0  [1, 1, 0, 0, 0, 0, 0, 0, 0, 0, 0, 0, 0, 0, 0, ...  \n",
       "1  [1, 1, 0, 0, 0, 0, 0, 1, 0, 0, 0, 0, 0, 0, 0, ...  \n",
       "2  [1, 1, 0, 0, 0, 0, 0, 0, 0, 1, 0, 0, 0, 0, 0, ...  \n",
       "3  [1, 1, 0, 0, 0, 0, 0, 0, 0, 0, 0, 0, 0, 0, 0, ...  \n",
       "4  [1, 1, 0, 0, 0, 0, 0, 0, 0, 0, 0, 0, 0, 0, 0, ...  \n",
       "5  [1, 1, 0, 0, 0, 0, 0, 0, 0, 1, 0, 0, 0, 0, 0, ...  \n",
       "6  [0, 0, 0, 0, 0, 0, 0, 1, 0, 0, 0, 0, 0, 0, 0, ...  \n",
       "7  [1, 1, 0, 0, 0, 0, 0, 0, 0, 0, 0, 0, 0, 0, 0, ...  \n",
       "8  [1, 1, 0, 0, 0, 0, 0, 0, 0, 0, 0, 0, 0, 0, 0, ...  \n",
       "9  [1, 1, 0, 0, 0, 0, 0, 0, 0, 1, 0, 0, 0, 0, 0, ...  "
      ]
     },
     "execution_count": 65,
     "metadata": {},
     "output_type": "execute_result"
    }
   ],
   "source": [
    "#movie_df.nlargest(n=10,columns='')\n",
    "movie_df.nlargest(n=10, columns= 'Domestic Sales (in $)')"
   ]
  },
  {
   "attachments": {},
   "cell_type": "markdown",
   "metadata": {
    "collapsed": false
   },
   "source": [
    "Note that of the highest grossing films, provided there is a value in the rating column, they were rated G (license 3)\n",
    "The most common genre is a combination of Action, Adventure and Sci-Fi\n",
    "Of the top 10, 6 were distributed by Walt Disney Studios Motion Pictures"
   ]
  },
  {
   "attachments": {},
   "cell_type": "markdown",
   "metadata": {
    "collapsed": false
   },
   "source": [
    "As an additional consideration, given that we saw that Disney had alot of outliers we also make note of the top grossing films from Summit Entertainment.\n",
    "There were only 5 films by Summit Entertainment in the dataframe. All were PG-13, runtime was approximately 2hrs. 4 were Drama, 4 Fantasy, 4 Romance, 3 Thriller, and 3 were Adventure."
   ]
  },
  {
   "cell_type": "markdown",
   "metadata": {
    "collapsed": false
   },
   "source": [
    "The average domestic sales for G and PG-13 are similar. PG sales are close behind. But certainly, on average, R rated movies make less money.\n"
   ]
  },
  {
   "attachments": {},
   "cell_type": "markdown",
   "metadata": {},
   "source": [
    "From the additional data, we see the top 10 directors by revenue are: Russo, Nolan, Spielberg, Jackson, Watts, Kosinski, Yates, Scorsese, Tarantino & Phillips."
   ]
  },
  {
   "attachments": {},
   "cell_type": "markdown",
   "metadata": {},
   "source": [
    "Based on all observations and investigations, I would recommend the studio to produce G rated movies with a genre combination of Action, Adventure and Sci-Fi. Alternatively a combination of Drama, Fantasy, Romance, Thriller and Adventure could also be very profitable. While PG-13 movies generally are similarly profitable to G rated movies, the studio should avoid R rated movies. If possible, the studio can hire one of the directors listed in the previous cell as, films they produced have the highest revenue. "
   ]
  }
 ],
 "metadata": {
  "kernelspec": {
   "display_name": "Python 3",
   "language": "python",
   "name": "python3"
  },
  "language_info": {
   "codemirror_mode": {
    "name": "ipython",
    "version": 3
   },
   "file_extension": ".py",
   "mimetype": "text/x-python",
   "name": "python",
   "nbconvert_exporter": "python",
   "pygments_lexer": "ipython3",
   "version": "3.10.5"
  }
 },
 "nbformat": 4,
 "nbformat_minor": 0
}
